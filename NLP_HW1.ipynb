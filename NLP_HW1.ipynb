{
  "nbformat": 4,
  "nbformat_minor": 0,
  "metadata": {
    "colab": {
      "name": "NLP_HW1.ipynb",
      "provenance": [],
      "collapsed_sections": [],
      "authorship_tag": "ABX9TyNbrzClhF39bIRN0k1/r71j",
      "include_colab_link": true
    },
    "kernelspec": {
      "name": "python3",
      "display_name": "Python 3"
    },
    "language_info": {
      "name": "python"
    }
  },
  "cells": [
    {
      "cell_type": "markdown",
      "metadata": {
        "id": "view-in-github",
        "colab_type": "text"
      },
      "source": [
        "<a href=\"https://colab.research.google.com/github/AUT-Student/NLP-HW1/blob/main/NLP_HW1.ipynb\" target=\"_parent\"><img src=\"https://colab.research.google.com/assets/colab-badge.svg\" alt=\"Open In Colab\"/></a>"
      ]
    },
    {
      "cell_type": "code",
      "execution_count": 2,
      "metadata": {
        "colab": {
          "base_uri": "https://localhost:8080/"
        },
        "id": "vSRMQW5y0GbV",
        "outputId": "611a1c92-2168-4920-cf7f-5136415f51ca"
      },
      "outputs": [
        {
          "output_type": "stream",
          "name": "stdout",
          "text": [
            "Downloading...\n",
            "From: https://drive.google.com/uc?id=16C0_9i0io43VfABV3-uukUjJYlM6k-2U\n",
            "To: /content/HW1-datasets.zip\n",
            "\r  0% 0.00/3.14M [00:00<?, ?B/s]\r100% 3.14M/3.14M [00:00<00:00, 195MB/s]\n",
            "Archive:  /content/HW1-datasets.zip\n",
            "   creating: content/HW1-datasets/\n",
            "  inflating: content/HW1-datasets/train.txt  \n",
            "  inflating: content/HW1-datasets/valid.txt  \n",
            "  inflating: content/HW1-datasets/test_incomplete.txt  \n",
            "  inflating: content/HW1-datasets/test.txt  \n",
            "  inflating: content/HW1-datasets/test_incomplete_gold.txt  \n"
          ]
        }
      ],
      "source": [
        "!gdown --id 16C0_9i0io43VfABV3-uukUjJYlM6k-2U\n",
        "!unzip /content/HW1-datasets.zip"
      ]
    },
    {
      "cell_type": "code",
      "source": [
        "import tensorflow as tf\n",
        "from tensorflow import keras\n",
        "import numpy as np"
      ],
      "metadata": {
        "id": "vJnzzUYZ1BoE"
      },
      "execution_count": 12,
      "outputs": []
    },
    {
      "cell_type": "code",
      "source": [
        "file = open(\"/content/content/HW1-datasets/train.txt\")\n",
        "\n",
        "vocabulary = set()\n",
        "\n",
        "for i, line in enumerate(file.readlines()):\n",
        "  if i < 30*1000:\n",
        "    words = line.split()\n",
        "\n",
        "    for word in words:\n",
        "      vocabulary.add(word)"
      ],
      "metadata": {
        "id": "hiuj1h6ZcmhY"
      },
      "execution_count": 4,
      "outputs": []
    },
    {
      "cell_type": "code",
      "source": [
        "len(vocabulary)"
      ],
      "metadata": {
        "colab": {
          "base_uri": "https://localhost:8080/"
        },
        "id": "D1CUYEkEd9Sz",
        "outputId": "1cdf1685-7da7-470e-cd66-b1fba3e3ffec"
      },
      "execution_count": 5,
      "outputs": [
        {
          "output_type": "execute_result",
          "data": {
            "text/plain": [
              "21188"
            ]
          },
          "metadata": {},
          "execution_count": 5
        }
      ]
    },
    {
      "cell_type": "code",
      "source": [
        "sorted_vocabulary = sorted(vocabulary)"
      ],
      "metadata": {
        "id": "NfZw0be4B5_t"
      },
      "execution_count": 6,
      "outputs": []
    },
    {
      "cell_type": "code",
      "source": [
        "class BigramNLM(keras.Model):\n",
        "  def __init__(self, vocabulary):\n",
        "    super().__init__()\n",
        "    self.vocabulary = vocabulary\n",
        "    self.model = keras.models.Sequential([\n",
        "                                          keras.layers.Input((2,), name=\"Input\"),\n",
        "                                          keras.layers.Embedding(len(self.vocabulary), 128, name=\"Embedding\"),\n",
        "                                          keras.layers.Flatten(name=\"Flatten\"),\n",
        "                                          keras.layers.Dense(units=256, name=\"Hidden\"),\n",
        "                                          keras.layers.Dense(units=len(self.vocabulary), activation=\"softmax\", name=\"Output\"),\n",
        "    ])\n",
        "\n",
        "  def convert_indexes_to_words(self, indexes):\n",
        "    return np.array(list(map(lambda x:self.vocabulary[x], indexes)))\n",
        "\n",
        "  def convert_word_to_index(self, word):\n",
        "    return self.vocabulary.index(word)\n",
        "\n",
        "  def call(self, inputs):\n",
        "    model_outputs = self.model(inputs)\n",
        "    predicted_word_indexes = np.argmax(model_outputs, axis=1)\n",
        "    predicted_words = self.convert_indexes_to_words(predicted_word_indexes)  \n",
        "    return predicted_words"
      ],
      "metadata": {
        "id": "e77K_UbOeJZs"
      },
      "execution_count": 54,
      "outputs": []
    },
    {
      "cell_type": "code",
      "source": [
        "bnlm = BigramNLM(vocabulary=sorted_vocabulary)"
      ],
      "metadata": {
        "id": "4GmCBErDE7as"
      },
      "execution_count": 55,
      "outputs": []
    },
    {
      "cell_type": "code",
      "source": [
        "bnlm.call(tf.constant([\n",
        "                        [4, 5],\n",
        "                        [4, 7],\n",
        "                        [6, 2]\n",
        "                        ]))"
      ],
      "metadata": {
        "colab": {
          "base_uri": "https://localhost:8080/"
        },
        "id": "LYWzl-NEEXSx",
        "outputId": "a7be97ae-4697-4796-d7f4-47fe205fee05"
      },
      "execution_count": 56,
      "outputs": [
        {
          "output_type": "execute_result",
          "data": {
            "text/plain": [
              "array(['سازنده', 'متراکم', 'ریایی'], dtype='<U6')"
            ]
          },
          "metadata": {},
          "execution_count": 56
        }
      ]
    },
    {
      "cell_type": "code",
      "source": [
        "bnlm.call(tf.constant([\n",
        "                        [1, 2],\n",
        "                        [3, 4],\n",
        "                        [1, 2]\n",
        "                        ]))"
      ],
      "metadata": {
        "colab": {
          "base_uri": "https://localhost:8080/"
        },
        "id": "VAaXkn5diuEo",
        "outputId": "8c6df2e6-fcd6-4a4c-f2cd-da57cbda6cc4"
      },
      "execution_count": 34,
      "outputs": [
        {
          "output_type": "stream",
          "name": "stdout",
          "text": [
            "tf.Tensor(\n",
            "[[1 2]\n",
            " [3 4]\n",
            " [1 2]], shape=(3, 2), dtype=int32)\n"
          ]
        },
        {
          "output_type": "execute_result",
          "data": {
            "text/plain": [
              "array(['دنیاکوشم', 'مپای', 'دنیاکوشم'], dtype='<U8')"
            ]
          },
          "metadata": {},
          "execution_count": 34
        }
      ]
    },
    {
      "cell_type": "code",
      "source": [
        "bnlm.compile(optimizer=\"adam\", loss=\"sparse_categorical_crossentropy\", metrics=[\"accuracy\"])"
      ],
      "metadata": {
        "id": "CNWnHdIhSWET"
      },
      "execution_count": 90,
      "outputs": []
    }
  ]
}