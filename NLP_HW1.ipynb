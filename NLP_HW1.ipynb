{
  "cells": [
    {
      "cell_type": "markdown",
      "metadata": {
        "id": "view-in-github",
        "colab_type": "text"
      },
      "source": [
        "<a href=\"https://colab.research.google.com/github/AUT-Student/NLP-HW1/blob/main/NLP_HW1.ipynb\" target=\"_parent\"><img src=\"https://colab.research.google.com/assets/colab-badge.svg\" alt=\"Open In Colab\"/></a>"
      ]
    },
    {
      "cell_type": "markdown",
      "source": [
        "<center><b>In the name of God</b></center>\n",
        "\n",
        "<b>Course</b>: Natural Language Processing\n",
        "<br>\n",
        "<b>Description:</b> HomeWork 1\n",
        "<br>\n",
        "<b>Developer</b>: Alireza Mazochi (400131075)"
      ],
      "metadata": {
        "id": "nnse-DGYp7Ah"
      }
    },
    {
      "cell_type": "markdown",
      "metadata": {
        "id": "e6rp27qwNwJP"
      },
      "source": [
        "# Library"
      ]
    },
    {
      "cell_type": "code",
      "execution_count": null,
      "metadata": {
        "id": "vJnzzUYZ1BoE"
      },
      "outputs": [],
      "source": [
        "import tensorflow as tf\n",
        "from tensorflow import keras\n",
        "from sklearn.metrics import accuracy_score\n",
        "import numpy as np\n",
        "import random\n",
        "import math"
      ]
    },
    {
      "cell_type": "markdown",
      "metadata": {
        "id": "18SpJaECNuHR"
      },
      "source": [
        "# Dataset"
      ]
    },
    {
      "cell_type": "code",
      "execution_count": null,
      "metadata": {
        "colab": {
          "base_uri": "https://localhost:8080/"
        },
        "id": "vSRMQW5y0GbV",
        "outputId": "de87bf7d-9974-4561-eb3a-22d5735553d3"
      },
      "outputs": [
        {
          "name": "stdout",
          "output_type": "stream",
          "text": [
            "Downloading...\n",
            "From: https://drive.google.com/uc?id=16C0_9i0io43VfABV3-uukUjJYlM6k-2U\n",
            "To: /content/HW1-datasets.zip\n",
            "\r  0% 0.00/3.14M [00:00<?, ?B/s]\r100% 3.14M/3.14M [00:00<00:00, 51.9MB/s]\n",
            "Archive:  /content/HW1-datasets.zip\n",
            "   creating: content/HW1-datasets/\n",
            "  inflating: content/HW1-datasets/train.txt  \n",
            "  inflating: content/HW1-datasets/valid.txt  \n",
            "  inflating: content/HW1-datasets/test_incomplete.txt  \n",
            "  inflating: content/HW1-datasets/test.txt  \n",
            "  inflating: content/HW1-datasets/test_incomplete_gold.txt  \n"
          ]
        }
      ],
      "source": [
        "!gdown --id 16C0_9i0io43VfABV3-uukUjJYlM6k-2U\n",
        "!unzip /content/HW1-datasets.zip"
      ]
    },
    {
      "cell_type": "markdown",
      "metadata": {
        "id": "ZfGWWpPEN-aE"
      },
      "source": [
        "# Statistical Language Model"
      ]
    },
    {
      "cell_type": "markdown",
      "metadata": {
        "id": "50IxVNrjOw1U"
      },
      "source": [
        "## Counting"
      ]
    },
    {
      "cell_type": "code",
      "execution_count": null,
      "metadata": {
        "id": "XZfxUo0POQB8"
      },
      "outputs": [],
      "source": [
        "file = open(\"/content/content/HW1-datasets/train.txt\")\n",
        "\n",
        "word_counter = {}\n",
        "pair_counter = {}\n",
        "vocabulary = set()\n",
        "N = 0\n",
        "\n",
        "for line in file.readlines():\n",
        "    words = line.split()\n",
        "    N += len(words)\n",
        "    \n",
        "    for i, word in enumerate(words):\n",
        "        vocabulary.add(word)\n",
        "        if word_counter.get(word) is None:\n",
        "            word_counter[word] = 0\n",
        "        word_counter[word] += 1\n",
        "    \n",
        "        if i>0:\n",
        "            pair = (words[i-1], word)\n",
        "            if pair_counter.get(pair) is None:\n",
        "                pair_counter[pair] = 0\n",
        "            pair_counter[pair] += 1"
      ]
    },
    {
      "cell_type": "markdown",
      "metadata": {
        "id": "pl61UXSjO0WW"
      },
      "source": [
        "## Functions"
      ]
    },
    {
      "cell_type": "code",
      "execution_count": null,
      "metadata": {
        "id": "HoGMfsB3OSns"
      },
      "outputs": [],
      "source": [
        "def create_unigram(delta):\n",
        "  def unigram(word):\n",
        "    if word in vocabulary:\n",
        "      return word_counter[word] / N \n",
        "    else:\n",
        "      return delta / N\n",
        "\n",
        "  return unigram"
      ]
    },
    {
      "cell_type": "code",
      "execution_count": null,
      "metadata": {
        "id": "JrmBTxHTOVQc"
      },
      "outputs": [],
      "source": [
        "def create_bigram(delta, unigram):\n",
        "    def calculate_B(delta):\n",
        "        B_word = {}\n",
        "\n",
        "        for word in vocabulary:\n",
        "          B_word[word] = 0\n",
        "\n",
        "        for pair in pair_counter:\n",
        "            word1 = pair[0]\n",
        "            B_word[word1] += 1\n",
        "        \n",
        "        for word in vocabulary:\n",
        "          if B_word[word]==0:\n",
        "            B_word[word] = 1\n",
        "\n",
        "        return B_word\n",
        "    \n",
        "    B_word = calculate_B(delta)\n",
        "    \n",
        "    def bigram(word1, word2):\n",
        "      p_bg = unigram(word2)\n",
        "      if word1 not in vocabulary:\n",
        "        return p_bg\n",
        "      else:\n",
        "        alpha = delta / word_counter[word1] * B_word[word1]\n",
        "\n",
        "        return (max(pair_counter.get((word1, word2), 0) - delta, 0) / word_counter[word1]) + alpha * p_bg\n",
        "\n",
        "    return bigram"
      ]
    },
    {
      "cell_type": "code",
      "execution_count": null,
      "metadata": {
        "id": "A31fLY_2oq5G"
      },
      "outputs": [],
      "source": [
        "def create_statistical_dataset(path, number_words, line_limit=None, data_number_limit=None):\n",
        "  file = open(path)\n",
        "\n",
        "  X_dataset = []\n",
        "  Y_dataset = []\n",
        "\n",
        "  for i, line in enumerate(file.readlines()):\n",
        "    if line_limit is not None and i >= line_limit:\n",
        "      break\n",
        "\n",
        "    all_words = line.split()\n",
        "\n",
        "    for j in range(number_words, len(all_words)):\n",
        "      words = []\n",
        "      for k in range(number_words):\n",
        "        word = all_words[j-k-1] \n",
        "        words.append(word)\n",
        "      \n",
        "      X_dataset.append(words)\n",
        "\n",
        "      word_target = all_words[j]\n",
        "      Y_dataset.append(word_target)\n",
        "\n",
        "  print(f\"Maximum Data = {len(X_dataset)}\")\n",
        "\n",
        "  if data_number_limit is not None:\n",
        "    random.seed(0)\n",
        "    X_dataset, Y_dataset = zip(*random.sample(list(zip(X_dataset, Y_dataset)), data_number_limit))\n",
        "\n",
        "  X_dataset = np.array(X_dataset)\n",
        "  Y_dataset = np.array(Y_dataset)\n",
        "  return X_dataset, Y_dataset"
      ]
    },
    {
      "cell_type": "markdown",
      "metadata": {
        "id": "bwlvnRgmO8px"
      },
      "source": [
        "## Perplexity"
      ]
    },
    {
      "cell_type": "code",
      "execution_count": null,
      "metadata": {
        "id": "e40Yl-sghFhm"
      },
      "outputs": [],
      "source": [
        "def unigram_perplexity(path):\n",
        "  file = open(path)\n",
        "\n",
        "  counter = 0\n",
        "  probability = 0\n",
        "\n",
        "  for line in file.readlines():\n",
        "    words = line.split()\n",
        "    \n",
        "    for word in words:\n",
        "      probability += math.log(unigram(word))\n",
        "      counter += 1\n",
        "\n",
        "  log_perplexity = -1/counter*probability\n",
        "  \n",
        "  perplexity = math.exp(log_perplexity)\n",
        "\n",
        "  return perplexity"
      ]
    },
    {
      "cell_type": "code",
      "execution_count": null,
      "metadata": {
        "id": "bm8eMaNQok7Z"
      },
      "outputs": [],
      "source": [
        "def bigram_perplexity(path):\n",
        "  file = open(path)\n",
        "\n",
        "  counter = 0\n",
        "  probability = 0\n",
        "\n",
        "  for line in file.readlines():\n",
        "    words = line.split()\n",
        "  \n",
        "    for i in range(1, len(words)):\n",
        "      probability += math.log(bigram(words[i-1], words[i]))\n",
        "      counter += 1\n",
        "\n",
        "  log_perplexity = -1/counter*probability  \n",
        "\n",
        "  perplexity = math.exp(log_perplexity)\n",
        "\n",
        "  return perplexity"
      ]
    },
    {
      "cell_type": "markdown",
      "metadata": {
        "id": "DM5pqRcEYagN"
      },
      "source": [
        "## Fine-Tuning"
      ]
    },
    {
      "cell_type": "code",
      "execution_count": null,
      "metadata": {
        "colab": {
          "base_uri": "https://localhost:8080/"
        },
        "id": "UPks11PhuQrC",
        "outputId": "bec1bdb9-430b-42fb-c0e8-15a5cf5dc01e"
      },
      "outputs": [
        {
          "name": "stdout",
          "output_type": "stream",
          "text": [
            "Delta = 0.9599999999999995 Perplexity = 1828.493440423088\n"
          ]
        }
      ],
      "source": [
        "path = \"/content/content/HW1-datasets/valid.txt\"\n",
        "\n",
        "best_unigram_perplexity = np.inf\n",
        "best_unigram_delta = None\n",
        "\n",
        "for delta in np.arange(0.2, 0.98, 0.02):\n",
        "  unigram = create_unigram(delta=delta)\n",
        "\n",
        "  new_unigram_perplexity = unigram_perplexity(path)\n",
        "\n",
        "  if new_unigram_perplexity < best_unigram_perplexity:\n",
        "    best_unigram_perplexity = new_unigram_perplexity\n",
        "    best_unigram_delta = delta\n",
        "\n",
        "print(f\"Delta = {best_unigram_delta} Perplexity = {best_unigram_perplexity}\")"
      ]
    },
    {
      "cell_type": "code",
      "execution_count": null,
      "metadata": {
        "colab": {
          "base_uri": "https://localhost:8080/"
        },
        "id": "7b0gW7l0qfdc",
        "outputId": "df24ddf1-98d8-4ee3-e722-ab9bd99604be"
      },
      "outputs": [
        {
          "name": "stdout",
          "output_type": "stream",
          "text": [
            "Delta = 0.8799999999999997 Perplexity = 1318.4189504258493\n"
          ]
        }
      ],
      "source": [
        "path = \"/content/content/HW1-datasets/valid.txt\"\n",
        "\n",
        "best_bigram_perplexity = np.inf\n",
        "best_bigram_delta = None\n",
        "\n",
        "for delta in np.arange(0.2, 0.98, 0.02):\n",
        "  unigram = create_unigram(delta=0.96)\n",
        "  bigram = create_bigram(delta=delta, unigram=unigram)\n",
        "\n",
        "  new_bigram_perplexity = bigram_perplexity(path)\n",
        "\n",
        "  if new_bigram_perplexity < best_bigram_perplexity:\n",
        "    best_bigram_perplexity = new_bigram_perplexity\n",
        "    best_bigram_delta = delta\n",
        "\n",
        "print(f\"Delta = {best_bigram_delta} Perplexity = {best_bigram_perplexity}\")"
      ]
    },
    {
      "cell_type": "markdown",
      "metadata": {
        "id": "tAPzVoltPGku"
      },
      "source": [
        "## Unigram"
      ]
    },
    {
      "cell_type": "code",
      "execution_count": null,
      "metadata": {
        "id": "yyled_qvvuk2"
      },
      "outputs": [],
      "source": [
        "unigram = create_unigram(delta=0.96)"
      ]
    },
    {
      "cell_type": "markdown",
      "metadata": {
        "id": "Ee2H5HkFsUr3"
      },
      "source": [
        "### Perplexity"
      ]
    },
    {
      "cell_type": "code",
      "execution_count": null,
      "metadata": {
        "colab": {
          "base_uri": "https://localhost:8080/"
        },
        "id": "qy4igi1BpC33",
        "outputId": "1d0e62c1-0ad7-4a0a-d694-7fe3e0530d38"
      },
      "outputs": [
        {
          "name": "stdout",
          "output_type": "stream",
          "text": [
            "Unigram perplexity of train = 1768.173187352548\n",
            "Unigram perplexity of test = 1810.0517762463387\n",
            "Unigram perplexity of valid = 1828.493440423088\n"
          ]
        }
      ],
      "source": [
        "for text in [\"train\", \"test\", \"valid\"]:\n",
        "  path = f\"/content/content/HW1-datasets/{text}.txt\"\n",
        "  print(f\"Unigram perplexity of {text} = {unigram_perplexity(path)}\")"
      ]
    },
    {
      "cell_type": "markdown",
      "metadata": {
        "id": "SG6A1O_RoHmU"
      },
      "source": [
        "### Quantitative Test"
      ]
    },
    {
      "cell_type": "code",
      "execution_count": null,
      "metadata": {
        "colab": {
          "base_uri": "https://localhost:8080/"
        },
        "id": "hjAVwcQxESbL",
        "outputId": "039c9f4f-744c-4357-d8eb-d4cfe9a8c453"
      },
      "outputs": [
        {
          "name": "stdout",
          "output_type": "stream",
          "text": [
            "Maximum Data = 1063985\n",
            "train Accuracy = 0.04028\n",
            "Maximum Data = 85324\n",
            "test Accuracy = 0.03968\n",
            "Maximum Data = 132968\n",
            "valid Accuracy = 0.03992\n"
          ]
        }
      ],
      "source": [
        "for dataset in [\"train\", \"test\", \"valid\"]:\n",
        "  X_test, Y_test = create_statistical_dataset(path=f\"/content/content/HW1-datasets/{dataset}.txt\",\n",
        "                                              number_words=0,\n",
        "                                              data_number_limit=50*1000)\n",
        "\n",
        "  best_word = None\n",
        "  best_probability = -math.inf\n",
        "  for condidate_word in vocabulary:\n",
        "      if unigram(condidate_word) > best_probability:\n",
        "          best_probability = unigram(condidate_word)\n",
        "          best_word = condidate_word\n",
        "\n",
        "  Y_test_predict = []\n",
        "  for _ in range(len(Y_test)):\n",
        "    Y_test_predict.append(best_word)\n",
        "\n",
        "  print(f\"{dataset} Accuracy = {accuracy_score(Y_test, Y_test_predict)}\")"
      ]
    },
    {
      "cell_type": "markdown",
      "metadata": {
        "id": "4sjzKpxWoAhN"
      },
      "source": [
        "### Qualitative Test"
      ]
    },
    {
      "cell_type": "code",
      "execution_count": null,
      "metadata": {
        "colab": {
          "base_uri": "https://localhost:8080/"
        },
        "id": "B2BEpQXNPKqS",
        "outputId": "6ce25496-7a7c-41ce-b2bb-ba60d34015b7"
      },
      "outputs": [
        {
          "name": "stdout",
          "output_type": "stream",
          "text": [
            "این سخن حقست اگر نزد سخن گستر \u001b[32mو\u001b[0m \n",
            "این سخن حقست اگر نزد سخن گستر برند\n",
            "\n",
            "آنکه با یوسف صدیق چنین خواهد \u001b[32mو\u001b[0m \n",
            "آنکه با یوسف صدیق چنین خواهد کرد\n",
            "\n",
            "هیچ دانی چکند صحبت او با \u001b[32mو\u001b[0m \n",
            "هیچ دانی چکند صحبت او با دگران\n",
            "\n",
            "سرمه دهی بصر بری سخت خوش است \u001b[32mو\u001b[0m \n",
            "سرمه دهی بصر بری سخت خوش است تاجری\n",
            "\n",
            "آتش ابراهیم را \u001b[32mو\u001b[0m \u001b[32mو\u001b[0m \n",
            "آتش ابراهیم را نبود زیان\n",
            "\n",
            "من که اندر سر \u001b[32mو\u001b[0m \u001b[32mو\u001b[0m \n",
            "من که اندر سر جنونی داشتم\n",
            "\n",
            "هر شیر شرزه را که به نیش \u001b[32mو\u001b[0m \u001b[32mو\u001b[0m \n",
            "هر شیر شرزه را که به نیش سنان گزید\n",
            "\n",
            "هرکه از حق به \u001b[32mو\u001b[0m \u001b[32mو\u001b[0m \u001b[32mو\u001b[0m \n",
            "هرکه از حق به سوی او نظریست\n",
            "\n",
            "گفت این از \u001b[32mو\u001b[0m \u001b[32mو\u001b[0m \u001b[32mو\u001b[0m \n",
            "گفت این از خدای باید خواست\n",
            "\n",
            "کلاه لاله که لعل است \u001b[32mو\u001b[0m \u001b[32mو\u001b[0m \u001b[32mو\u001b[0m \n",
            "کلاه لاله که لعل است اگر تو بشناسی\n"
          ]
        }
      ],
      "source": [
        "best_word = None\n",
        "best_probability = -math.inf\n",
        "for condidate_word in vocabulary:\n",
        "    if unigram(condidate_word) > best_probability:\n",
        "        best_probability = unigram(condidate_word)\n",
        "        best_word = condidate_word\n",
        "\n",
        "file = open(\"/content/content/HW1-datasets/test_incomplete.txt\")\n",
        "incomplete_lines = file.readlines()\n",
        "\n",
        "file = open(\"/content/content/HW1-datasets/test_incomplete_gold.txt\")\n",
        "incomplete_gold_lines = file.readlines()\n",
        "\n",
        "for i in range(len(incomplete_lines)):\n",
        "    line = incomplete_lines[i]\n",
        "    digit = int(line[0])\n",
        "    line = line[4:]\n",
        "    print(line.strip(), end=\" \")\n",
        "    for _ in range(digit):\n",
        "        print(f\"\\x1b[32m{best_word}\\x1b[0m\", end= \" \")\n",
        "    print()\n",
        "    \n",
        "    print(incomplete_gold_lines[i])    "
      ]
    },
    {
      "cell_type": "markdown",
      "metadata": {
        "id": "mEguCcW1PLz6"
      },
      "source": [
        "## Bigram"
      ]
    },
    {
      "cell_type": "code",
      "execution_count": null,
      "metadata": {
        "id": "LbAJdd2YxMDG"
      },
      "outputs": [],
      "source": [
        "unigram = create_unigram(delta=0.96)\n",
        "bigram = create_bigram(delta=0.88, unigram=unigram)"
      ]
    },
    {
      "cell_type": "markdown",
      "metadata": {
        "id": "kfRK6WLqskJJ"
      },
      "source": [
        "### Perplexity"
      ]
    },
    {
      "cell_type": "code",
      "execution_count": null,
      "metadata": {
        "colab": {
          "base_uri": "https://localhost:8080/"
        },
        "id": "kiM_PsJjpFWo",
        "outputId": "a5259507-073d-4060-e3f2-2e95935f7d0f"
      },
      "outputs": [
        {
          "name": "stdout",
          "output_type": "stream",
          "text": [
            "Bigram perplexity of train = 322.6322649838004\n",
            "Bigram perplexity of test = 1326.7163336443393\n",
            "Bigram perplexity of valid = 1318.4189504258493\n"
          ]
        }
      ],
      "source": [
        "for text in [\"train\", \"test\", \"valid\"]:\n",
        "  path = f\"/content/content/HW1-datasets/{text}.txt\"\n",
        "  print(f\"Bigram perplexity of {text} = {bigram_perplexity(path)}\")"
      ]
    },
    {
      "cell_type": "markdown",
      "metadata": {
        "id": "boAS54xPoRI3"
      },
      "source": [
        "### Quantitative Test"
      ]
    },
    {
      "cell_type": "code",
      "execution_count": null,
      "metadata": {
        "colab": {
          "base_uri": "https://localhost:8080/"
        },
        "id": "Ms_jAuTlw6wa",
        "outputId": "aadfe462-e2bc-4da5-8e1b-ece897eefedd"
      },
      "outputs": [
        {
          "name": "stdout",
          "output_type": "stream",
          "text": [
            "Maximum Data = 912870\n",
            "i = 0\n",
            "i = 500\n",
            "i = 1000\n",
            "i = 1500\n",
            "i = 2000\n",
            "i = 2500\n",
            "i = 3000\n",
            "i = 3500\n",
            "i = 4000\n",
            "i = 4500\n",
            "i = 5000\n",
            "i = 5500\n",
            "i = 6000\n",
            "i = 6500\n",
            "i = 7000\n",
            "i = 7500\n",
            "i = 8000\n",
            "i = 8500\n",
            "i = 9000\n",
            "i = 9500\n",
            "train Accuracy = 0.1208\n",
            "Maximum Data = 114079\n",
            "i = 0\n",
            "i = 500\n",
            "i = 1000\n",
            "i = 1500\n",
            "i = 2000\n",
            "i = 2500\n",
            "i = 3000\n",
            "i = 3500\n",
            "i = 4000\n",
            "i = 4500\n",
            "i = 5000\n",
            "i = 5500\n",
            "i = 6000\n",
            "i = 6500\n",
            "i = 7000\n",
            "i = 7500\n",
            "i = 8000\n",
            "i = 8500\n",
            "i = 9000\n",
            "i = 9500\n",
            "valid Accuracy = 0.0768\n",
            "Maximum Data = 73199\n",
            "i = 0\n",
            "i = 500\n",
            "i = 1000\n",
            "i = 1500\n",
            "i = 2000\n",
            "i = 2500\n",
            "i = 3000\n",
            "i = 3500\n",
            "i = 4000\n",
            "i = 4500\n",
            "i = 5000\n",
            "i = 5500\n",
            "i = 6000\n",
            "i = 6500\n",
            "i = 7000\n",
            "i = 7500\n",
            "i = 8000\n",
            "i = 8500\n",
            "i = 9000\n",
            "i = 9500\n",
            "test Accuracy = 0.0799\n"
          ]
        }
      ],
      "source": [
        "for dataset in [\"train\", \"valid\", \"test\"]:\n",
        "\n",
        "  X_test, Y_test = create_statistical_dataset(path=f\"/content/content/HW1-datasets/{dataset}.txt\",\n",
        "                                              number_words=1,\n",
        "                                              data_number_limit=10*1000)  \n",
        "\n",
        "  Y_test_predict = []\n",
        "\n",
        "  for i in range(len(Y_test)):\n",
        "    if i%500 == 0:\n",
        "      print(f\"i = {i}\")\n",
        "\n",
        "    Y_test[i]\n",
        "    best_word = None\n",
        "    best_probability = -math.inf\n",
        "    last_word = X_test[i][0]\n",
        "\n",
        "    for condidate_word in vocabulary:\n",
        "      if bigram(last_word, condidate_word) > best_probability:\n",
        "          best_probability = bigram(last_word, condidate_word)\n",
        "          best_word = condidate_word\n",
        "\n",
        "    Y_test_predict.append(best_word)\n",
        "\n",
        "  print(f\"{dataset} Accuracy = {accuracy_score(Y_test, Y_test_predict)}\")"
      ]
    },
    {
      "cell_type": "markdown",
      "metadata": {
        "id": "32uyvQtKoU9b"
      },
      "source": [
        "### Qualitative Test"
      ]
    },
    {
      "cell_type": "code",
      "execution_count": null,
      "metadata": {
        "colab": {
          "base_uri": "https://localhost:8080/"
        },
        "id": "3lhK_uBpPPzx",
        "outputId": "4f35e9db-7e7a-453b-ca1d-8f09ae7fc923"
      },
      "outputs": [
        {
          "name": "stdout",
          "output_type": "stream",
          "text": [
            "این سخن حقست اگر نزد سخن گستر \u001b[32mو\u001b[0m \n",
            "این سخن حقست اگر نزد سخن گستر برند\n",
            "\n",
            "آنکه با یوسف صدیق چنین خواهد \u001b[32mکرد\u001b[0m \n",
            "آنکه با یوسف صدیق چنین خواهد کرد\n",
            "\n",
            "هیچ دانی چکند صحبت او با \u001b[32mتو\u001b[0m \n",
            "هیچ دانی چکند صحبت او با دگران\n",
            "\n",
            "سرمه دهی بصر بری سخت خوش است \u001b[32mو\u001b[0m \n",
            "سرمه دهی بصر بری سخت خوش است تاجری\n",
            "\n",
            "آتش ابراهیم را \u001b[32mبه\u001b[0m \u001b[32mدست\u001b[0m \n",
            "آتش ابراهیم را نبود زیان\n",
            "\n",
            "من که اندر سر \u001b[32mو\u001b[0m \u001b[32mاز\u001b[0m \n",
            "من که اندر سر جنونی داشتم\n",
            "\n",
            "هر شیر شرزه را که به نیش \u001b[32mو\u001b[0m \u001b[32mاز\u001b[0m \n",
            "هر شیر شرزه را که به نیش سنان گزید\n",
            "\n",
            "هرکه از حق به \u001b[32mدست\u001b[0m \u001b[32mو\u001b[0m \u001b[32mاز\u001b[0m \n",
            "هرکه از حق به سوی او نظریست\n",
            "\n",
            "گفت این از \u001b[32mآن\u001b[0m \u001b[32mکه\u001b[0m \u001b[32mدر\u001b[0m \n",
            "گفت این از خدای باید خواست\n",
            "\n",
            "کلاه لاله که لعل است \u001b[32mو\u001b[0m \u001b[32mاز\u001b[0m \u001b[32mآن\u001b[0m \n",
            "کلاه لاله که لعل است اگر تو بشناسی\n"
          ]
        }
      ],
      "source": [
        "file = open(\"/content/content/HW1-datasets/test_incomplete.txt\")\n",
        "incomplete_lines = file.readlines()\n",
        "\n",
        "file = open(\"/content/content/HW1-datasets/test_incomplete_gold.txt\")\n",
        "incomplete_gold_lines = file.readlines()\n",
        "\n",
        "for i in range(len(incomplete_lines)):\n",
        "    line = incomplete_lines[i]\n",
        "    digit = int(line[0])\n",
        "    line = line[4:]\n",
        "    line = line.strip()\n",
        "    words = line.split()\n",
        "    \n",
        "    last_word = words[-1]\n",
        "    \n",
        "    print(line, end=\" \")\n",
        "    \n",
        "    for _ in range(digit):        \n",
        "        best_word = None\n",
        "        best_probability = -math.inf\n",
        "        \n",
        "        for condidate_word in vocabulary:\n",
        "            if bigram(last_word, condidate_word) > best_probability:\n",
        "                best_probability = bigram(last_word, condidate_word)\n",
        "                best_word = condidate_word\n",
        "            \n",
        "        print(f\"\\x1b[32m{best_word}\\x1b[0m\", end= \" \")\n",
        "        last_word = best_word\n",
        "    \n",
        "    print()\n",
        "    \n",
        "    print(incomplete_gold_lines[i])  "
      ]
    },
    {
      "cell_type": "markdown",
      "metadata": {
        "id": "mE8eCJIqNo4Z"
      },
      "source": [
        "# Neural Language Model"
      ]
    },
    {
      "cell_type": "markdown",
      "metadata": {
        "id": "73VIJ1hZPsJM"
      },
      "source": [
        "## Vocabulary"
      ]
    },
    {
      "cell_type": "code",
      "execution_count": null,
      "metadata": {
        "colab": {
          "base_uri": "https://localhost:8080/"
        },
        "id": "hiuj1h6ZcmhY",
        "outputId": "b02d69d8-73dd-48a2-ae07-c268b752faec"
      },
      "outputs": [
        {
          "name": "stdout",
          "output_type": "stream",
          "text": [
            "Vocabulary Size = 21188\n"
          ]
        }
      ],
      "source": [
        "file = open(\"/content/content/HW1-datasets/train.txt\")\n",
        "\n",
        "vocabulary = set()\n",
        "\n",
        "for i, line in enumerate(file.readlines()):\n",
        "  if i < 30*1000:\n",
        "    words = line.split()\n",
        "\n",
        "    for word in words:\n",
        "      vocabulary.add(word)\n",
        "\n",
        "vocabulary = sorted(vocabulary)\n",
        "print(f\"Vocabulary Size = {len(vocabulary)}\")"
      ]
    },
    {
      "cell_type": "markdown",
      "metadata": {
        "id": "Uh2LXDOjPwss"
      },
      "source": [
        "## Model"
      ]
    },
    {
      "cell_type": "code",
      "execution_count": null,
      "metadata": {
        "id": "e77K_UbOeJZs"
      },
      "outputs": [],
      "source": [
        "from bisect import bisect_left\n",
        "\n",
        "class NLM(keras.Model):\n",
        "  def __init__(self, vocabulary_size, input_size, embedding_size=128, hidden_size=256):\n",
        "    super().__init__()\n",
        "    self.input_size = input_size\n",
        "    self.model = keras.models.Sequential([\n",
        "                                          keras.layers.Input((input_size,), name=\"Input\"),\n",
        "                                          keras.layers.Embedding(vocabulary_size + 1, embedding_size, name=\"Embedding\"),\n",
        "                                          keras.layers.Flatten(name=\"Flatten\"),\n",
        "                                          keras.layers.Dense(units=hidden_size, name=\"Hidden\"),\n",
        "                                          keras.layers.Dense(units=vocabulary_size + 1, activation=\"softmax\", name=\"Output\"),\n",
        "    ])\n",
        "\n",
        "  def call(self, inputs):\n",
        "    return self.model(inputs)\n",
        "\n",
        "  def single_predict(self, words):\n",
        "    indexes = []\n",
        "    for word in words:\n",
        "      index = convert_word_to_index(word)\n",
        "      indexes.append(index)\n",
        "    \n",
        "    indexes = tf.constant(indexes)\n",
        "    indexes = tf.expand_dims(indexes, 0)\n",
        "\n",
        "    model_output =  self.model(indexes)\n",
        "\n",
        "    predicted_word_indexes = keras.backend.argmax(model_output, axis=1)\n",
        "    predicted_word_index = tf.squeeze(predicted_word_indexes) \n",
        "    predicted_word = convert_index_to_word(predicted_word_index)\n",
        "    return predicted_word\n",
        "\n",
        "  def perplexity(self, path):\n",
        "\n",
        "    file = open(path)\n",
        "\n",
        "    counter = 0\n",
        "    probability = 0\n",
        "\n",
        "    for line_number, line in enumerate(file.readlines()):\n",
        "      words = line.split()\n",
        "\n",
        "      for i in range(self.input_size, len(words)):\n",
        "        target_word = words[i]\n",
        "        target_index = convert_word_to_index(target_word)\n",
        "\n",
        "        indexes = []\n",
        "        for j in range(self.input_size):\n",
        "          index = convert_word_to_index(words[i-j-1])\n",
        "          indexes.append(index)\n",
        "\n",
        "        indexes = tf.constant(indexes)\n",
        "        indexes = tf.expand_dims(indexes, 0)\n",
        "\n",
        "        model_output =  self.model(indexes)\n",
        "        model_output = model_output.numpy()[0]\n",
        "\n",
        "        p_target = model_output[target_index]\n",
        "\n",
        "        probability += math.log(p_target)\n",
        "        counter += 1\n",
        "\n",
        "    log_perplexity = -1/counter*probability  \n",
        "\n",
        "    perplexity = math.exp(log_perplexity)\n",
        "\n",
        "    return perplexity"
      ]
    },
    {
      "cell_type": "markdown",
      "metadata": {
        "id": "yxJ9okWyRqsh"
      },
      "source": [
        "## Functions"
      ]
    },
    {
      "cell_type": "code",
      "execution_count": null,
      "metadata": {
        "id": "ZOhhnodXRn_7"
      },
      "outputs": [],
      "source": [
        "def convert_word_to_index(word):\n",
        "  pos = bisect_left(vocabulary, word, 0, len(vocabulary))\n",
        "  return pos if pos != len(vocabulary) and vocabulary[pos] == word else len(vocabulary)"
      ]
    },
    {
      "cell_type": "code",
      "execution_count": null,
      "metadata": {
        "id": "vI8fSzGIR3WH"
      },
      "outputs": [],
      "source": [
        "def convert_index_to_word(index):\n",
        "  if index==len(vocabulary):\n",
        "    return \"Unknown\"\n",
        "  else:\n",
        "    return vocabulary[index]"
      ]
    },
    {
      "cell_type": "code",
      "execution_count": null,
      "metadata": {
        "id": "ucaZ0YAnR44l"
      },
      "outputs": [],
      "source": [
        "def create_neural_dataset(path, number_words, line_limit=None, data_number_limit=None):\n",
        "  file = open(path)\n",
        "\n",
        "  X_dataset = []\n",
        "  Y_dataset = []\n",
        "\n",
        "  for i, line in enumerate(file.readlines()):\n",
        "    if line_limit is not None and i >= line_limit:\n",
        "      break\n",
        "\n",
        "    words = line.split()\n",
        "\n",
        "    for j in range(number_words, len(words)):\n",
        "      indexes = []\n",
        "      for k in range(number_words):\n",
        "        word = words[j-k-1]\n",
        "        index = convert_word_to_index(word) \n",
        "        indexes.append(index)\n",
        "      \n",
        "      X_dataset.append(indexes)\n",
        "\n",
        "      word_target = words[j]\n",
        "      index_target = convert_word_to_index(word_target)\n",
        "      Y_dataset.append(index_target)\n",
        "\n",
        "  print(f\"Maximum Data = {len(X_dataset)}\")\n",
        "  \n",
        "  if data_number_limit is not None:\n",
        "    random.seed(0)\n",
        "    X_dataset, Y_dataset = zip(*random.sample(list(zip(X_dataset, Y_dataset)), data_number_limit))\n",
        "\n",
        "  X_dataset = np.array(X_dataset)\n",
        "  Y_dataset = tf.one_hot(indices=Y_dataset, depth=len(vocabulary)+1).numpy()\n",
        "  return X_dataset, Y_dataset"
      ]
    },
    {
      "cell_type": "markdown",
      "metadata": {
        "id": "4jMD3UatSo0T"
      },
      "source": [
        "## Bigram"
      ]
    },
    {
      "cell_type": "markdown",
      "metadata": {
        "id": "Z0Nhsam6YsFR"
      },
      "source": [
        "### Craete and Train"
      ]
    },
    {
      "cell_type": "code",
      "execution_count": null,
      "metadata": {
        "id": "O-LXOt3iSrnY"
      },
      "outputs": [],
      "source": [
        "bigram_nlm = NLM(vocabulary_size=len(vocabulary), input_size=1)"
      ]
    },
    {
      "cell_type": "code",
      "execution_count": null,
      "metadata": {
        "id": "CNWnHdIhSWET"
      },
      "outputs": [],
      "source": [
        "bigram_nlm.compile(optimizer=\"adam\", loss=\"categorical_crossentropy\", metrics=[\"accuracy\"])"
      ]
    },
    {
      "cell_type": "code",
      "execution_count": null,
      "metadata": {
        "colab": {
          "base_uri": "https://localhost:8080/"
        },
        "id": "igR-h-a0WtnQ",
        "outputId": "d20c7f3e-180b-4722-e0e7-3e6443ffa3d6"
      },
      "outputs": [
        {
          "name": "stdout",
          "output_type": "stream",
          "text": [
            "Maximum Data = 181278\n"
          ]
        }
      ],
      "source": [
        "X_train, Y_train = create_neural_dataset(path=\"/content/content/HW1-datasets/train.txt\",\n",
        "                                         number_words=1,\n",
        "                                         line_limit=30*1000,\n",
        "                                         data_number_limit=50*1000)"
      ]
    },
    {
      "cell_type": "code",
      "execution_count": null,
      "metadata": {
        "colab": {
          "base_uri": "https://localhost:8080/"
        },
        "id": "cdwYq8Vdfwuk",
        "outputId": "7f5fc035-b701-45a5-f320-196ac5ad85ad"
      },
      "outputs": [
        {
          "name": "stdout",
          "output_type": "stream",
          "text": [
            "Maximum Data = 114079\n"
          ]
        }
      ],
      "source": [
        "X_valid, Y_valid = create_neural_dataset(path=\"/content/content/HW1-datasets/valid.txt\",\n",
        "                                         number_words=1,\n",
        "                                         data_number_limit=25*1000)"
      ]
    },
    {
      "cell_type": "code",
      "execution_count": null,
      "metadata": {
        "id": "ZdMHNi9rWTWL"
      },
      "outputs": [],
      "source": [
        "es_callback = keras.callbacks.EarlyStopping(monitor=\"val_accuracy\", restore_best_weights=True, patience=2)"
      ]
    },
    {
      "cell_type": "code",
      "execution_count": null,
      "metadata": {
        "colab": {
          "base_uri": "https://localhost:8080/"
        },
        "id": "vOfT191CNuAZ",
        "outputId": "31120ec1-1906-4b3c-c0fe-5ee4ca1484b6"
      },
      "outputs": [
        {
          "name": "stdout",
          "output_type": "stream",
          "text": [
            "Epoch 1/10\n",
            "1563/1563 [==============================] - 197s 125ms/step - loss: 7.7993 - accuracy: 0.0503 - val_loss: 7.5978 - val_accuracy: 0.0543\n",
            "Epoch 2/10\n",
            "1563/1563 [==============================] - 180s 115ms/step - loss: 6.9813 - accuracy: 0.0643 - val_loss: 7.6538 - val_accuracy: 0.0633\n",
            "Epoch 3/10\n",
            "1563/1563 [==============================] - 176s 112ms/step - loss: 6.4219 - accuracy: 0.0870 - val_loss: 7.9092 - val_accuracy: 0.0624\n",
            "Epoch 4/10\n",
            "1563/1563 [==============================] - 178s 114ms/step - loss: 5.7498 - accuracy: 0.1203 - val_loss: 8.2626 - val_accuracy: 0.0553\n"
          ]
        },
        {
          "data": {
            "text/plain": [
              "<keras.callbacks.History at 0x7f9672a1ffd0>"
            ]
          },
          "execution_count": 12,
          "metadata": {},
          "output_type": "execute_result"
        }
      ],
      "source": [
        "bigram_nlm.fit(x=X_train, y=Y_train, validation_data= (X_valid, Y_valid), epochs=10, callbacks=[es_callback])"
      ]
    },
    {
      "cell_type": "markdown",
      "metadata": {
        "id": "COeLUI5a6HhO"
      },
      "source": [
        "### Perplexity"
      ]
    },
    {
      "cell_type": "code",
      "execution_count": null,
      "metadata": {
        "colab": {
          "base_uri": "https://localhost:8080/"
        },
        "id": "xo3PJRzd6Jbh",
        "outputId": "71f59a46-254d-4057-ad5d-ec2664bd3322"
      },
      "outputs": [
        {
          "data": {
            "text/plain": [
              "2100.5970730407657"
            ]
          },
          "execution_count": 13,
          "metadata": {},
          "output_type": "execute_result"
        }
      ],
      "source": [
        "bigram_nlm.perplexity(path=\"/content/content/HW1-datasets/test.txt\")"
      ]
    },
    {
      "cell_type": "code",
      "execution_count": null,
      "metadata": {
        "colab": {
          "background_save": true
        },
        "id": "NGRkjlozzAYz",
        "outputId": "16e19189-25b1-4d13-cf7f-f1822f084ef4"
      },
      "outputs": [
        {
          "data": {
            "text/plain": [
              "1970.5638742960314"
            ]
          },
          "execution_count": null,
          "metadata": {},
          "output_type": "execute_result"
        }
      ],
      "source": [
        "bigram_nlm.perplexity(path=\"/content/content/HW1-datasets/train.txt\")"
      ]
    },
    {
      "cell_type": "code",
      "execution_count": null,
      "metadata": {
        "colab": {
          "base_uri": "https://localhost:8080/"
        },
        "id": "LTZzpvQLzEvo",
        "outputId": "82de5302-249e-4f04-ab47-8e79350eee90"
      },
      "outputs": [
        {
          "data": {
            "text/plain": [
              "2113.1882825600264"
            ]
          },
          "execution_count": 24,
          "metadata": {},
          "output_type": "execute_result"
        }
      ],
      "source": [
        "bigram_nlm.perplexity(path=\"/content/content/HW1-datasets/valid.txt\")"
      ]
    },
    {
      "cell_type": "markdown",
      "metadata": {
        "id": "tONcfWFZYw9r"
      },
      "source": [
        "### Quantitative Test"
      ]
    },
    {
      "cell_type": "code",
      "execution_count": null,
      "metadata": {
        "colab": {
          "base_uri": "https://localhost:8080/"
        },
        "id": "AWMYBvWxXU0X",
        "outputId": "5b09a06e-8977-4ba5-9179-379851b0ee7c"
      },
      "outputs": [
        {
          "name": "stdout",
          "output_type": "stream",
          "text": [
            "1563/1563 [==============================] - 45s 29ms/step - loss: 6.4162 - accuracy: 0.0835\n",
            "Train Accuracy = 0.08349999785423279\n",
            "782/782 [==============================] - 23s 29ms/step - loss: 7.6538 - accuracy: 0.0633\n",
            "Valid Accuracy = 0.06328000128269196\n"
          ]
        }
      ],
      "source": [
        "print(f\"Train Accuracy = {bigram_nlm.evaluate(x=X_train, y=Y_train, verbose=1)[1]}\")\n",
        "print(f\"Valid Accuracy = {bigram_nlm.evaluate(x=X_valid, y=Y_valid, verbose=1)[1]}\")"
      ]
    },
    {
      "cell_type": "code",
      "execution_count": null,
      "metadata": {
        "id": "Qojcb_AqXGGq"
      },
      "outputs": [],
      "source": [
        "del X_train, Y_train, X_valid, Y_valid"
      ]
    },
    {
      "cell_type": "code",
      "execution_count": null,
      "metadata": {
        "colab": {
          "base_uri": "https://localhost:8080/"
        },
        "id": "Rz3vTu7IibI-",
        "outputId": "0361d484-fe2b-4796-8ee9-6093bb0635bb"
      },
      "outputs": [
        {
          "name": "stdout",
          "output_type": "stream",
          "text": [
            "Maximum Data = 73199\n"
          ]
        }
      ],
      "source": [
        "X_test, Y_test = create_neural_dataset(path=\"/content/content/HW1-datasets/test.txt\",\n",
        "                                       number_words=1,\n",
        "                                       data_number_limit=50*1000)"
      ]
    },
    {
      "cell_type": "code",
      "execution_count": null,
      "metadata": {
        "colab": {
          "base_uri": "https://localhost:8080/"
        },
        "id": "e0zIuyUtXLYU",
        "outputId": "bd0fc2a7-8794-4ec0-d024-3138fa8794ba"
      },
      "outputs": [
        {
          "name": "stdout",
          "output_type": "stream",
          "text": [
            "1563/1563 [==============================] - 62s 40ms/step - loss: 7.6502 - accuracy: 0.0619\n",
            "Test Accuracy = 0.06193999946117401\n"
          ]
        }
      ],
      "source": [
        "print(f\"Test Accuracy = {bigram_nlm.evaluate(x=X_test, y=Y_test, verbose=1)[1]}\")"
      ]
    },
    {
      "cell_type": "code",
      "execution_count": null,
      "metadata": {
        "id": "_qLKTR14YUmV"
      },
      "outputs": [],
      "source": [
        "del X_test, Y_test"
      ]
    },
    {
      "cell_type": "markdown",
      "metadata": {
        "id": "CGLfy2UuZbfS"
      },
      "source": [
        "### Qualitative Test"
      ]
    },
    {
      "cell_type": "code",
      "execution_count": null,
      "metadata": {
        "colab": {
          "base_uri": "https://localhost:8080/"
        },
        "id": "7Bu77FVgZeZz",
        "outputId": "8e0d2fc6-7a5a-4880-b870-fed665e23b6a"
      },
      "outputs": [
        {
          "name": "stdout",
          "output_type": "stream",
          "text": [
            "این سخن حقست اگر نزد سخن گستر \u001b[32mو\u001b[0m \n",
            "این سخن حقست اگر نزد سخن گستر برند\n",
            "\n",
            "آنکه با یوسف صدیق چنین خواهد \u001b[32mو\u001b[0m \n",
            "آنکه با یوسف صدیق چنین خواهد کرد\n",
            "\n",
            "هیچ دانی چکند صحبت او با \u001b[32mتو\u001b[0m \n",
            "هیچ دانی چکند صحبت او با دگران\n",
            "\n",
            "سرمه دهی بصر بری سخت خوش است \u001b[32mو\u001b[0m \n",
            "سرمه دهی بصر بری سخت خوش است تاجری\n",
            "\n",
            "آتش ابراهیم را \u001b[32mز\u001b[0m \u001b[32mمن\u001b[0m \n",
            "آتش ابراهیم را نبود زیان\n",
            "\n",
            "من که اندر سر \u001b[32mو\u001b[0m \u001b[32mبه\u001b[0m \n",
            "من که اندر سر جنونی داشتم\n",
            "\n",
            "هر شیر شرزه را که به نیش \u001b[32mو\u001b[0m \u001b[32mبه\u001b[0m \n",
            "هر شیر شرزه را که به نیش سنان گزید\n",
            "\n",
            "هرکه از حق به \u001b[32mجای\u001b[0m \u001b[32mآن\u001b[0m \u001b[32mکه\u001b[0m \n",
            "هرکه از حق به سوی او نظریست\n",
            "\n",
            "گفت این از \u001b[32mآن\u001b[0m \u001b[32mکه\u001b[0m \u001b[32mدر\u001b[0m \n",
            "گفت این از خدای باید خواست\n",
            "\n",
            "کلاه لاله که لعل است \u001b[32mو\u001b[0m \u001b[32mبه\u001b[0m \u001b[32mجای\u001b[0m \n",
            "کلاه لاله که لعل است اگر تو بشناسی\n"
          ]
        }
      ],
      "source": [
        "file = open(\"/content/content/HW1-datasets/test_incomplete.txt\")\n",
        "incomplete_lines = file.readlines()\n",
        "\n",
        "file = open(\"/content/content/HW1-datasets/test_incomplete_gold.txt\")\n",
        "incomplete_gold_lines = file.readlines()\n",
        "\n",
        "for i in range(len(incomplete_lines)):\n",
        "    line = incomplete_lines[i]\n",
        "    digit = int(line[0])\n",
        "    line = line[4:]\n",
        "    line = line.strip()\n",
        "    words = line.split()\n",
        "    \n",
        "    last_word = words[-1]\n",
        "\n",
        "    print(line, end=\" \")\n",
        "    \n",
        "    for _ in range(digit):\n",
        "        predicted_word = bigram_nlm.single_predict([last_word])\n",
        "\n",
        "        print(f\"\\x1b[32m{predicted_word}\\x1b[0m\", end= \" \")\n",
        "\n",
        "        last_word = predicted_word\n",
        "    \n",
        "    print()\n",
        "    \n",
        "    print(incomplete_gold_lines[i])  "
      ]
    },
    {
      "cell_type": "markdown",
      "metadata": {
        "id": "X1RcEmtpQndF"
      },
      "source": [
        "## Trigram"
      ]
    },
    {
      "cell_type": "markdown",
      "metadata": {
        "id": "T64j7G1WjVAL"
      },
      "source": [
        "### Craete and Train"
      ]
    },
    {
      "cell_type": "code",
      "execution_count": null,
      "metadata": {
        "id": "MxY1y2WSXxel"
      },
      "outputs": [],
      "source": [
        "trigram_nlm = NLM(vocabulary_size=len(vocabulary), input_size=2)"
      ]
    },
    {
      "cell_type": "code",
      "execution_count": null,
      "metadata": {
        "id": "7RaacpZkX2S8"
      },
      "outputs": [],
      "source": [
        "trigram_nlm.compile(optimizer=\"adam\", loss=\"categorical_crossentropy\", metrics=[\"accuracy\"])"
      ]
    },
    {
      "cell_type": "code",
      "execution_count": null,
      "metadata": {
        "colab": {
          "base_uri": "https://localhost:8080/"
        },
        "id": "ExPrRu1YX6uw",
        "outputId": "3366b059-de0b-4178-e540-946ea375e4b8"
      },
      "outputs": [
        {
          "name": "stdout",
          "output_type": "stream",
          "text": [
            "Maximum Data = 151278\n"
          ]
        }
      ],
      "source": [
        "X_train, Y_train = create_neural_dataset(path=\"/content/content/HW1-datasets/train.txt\",\n",
        "                                         number_words=2,\n",
        "                                         line_limit=30*1000,\n",
        "                                         data_number_limit=50*1000)"
      ]
    },
    {
      "cell_type": "code",
      "execution_count": null,
      "metadata": {
        "colab": {
          "base_uri": "https://localhost:8080/"
        },
        "id": "UViZ__yBX77z",
        "outputId": "d06d3ac3-ac27-4264-9d63-716a22243982"
      },
      "outputs": [
        {
          "name": "stdout",
          "output_type": "stream",
          "text": [
            "Maximum Data = 95190\n"
          ]
        }
      ],
      "source": [
        "X_valid, Y_valid = create_neural_dataset(path=\"/content/content/HW1-datasets/valid.txt\",\n",
        "                                         number_words=2,\n",
        "                                         data_number_limit=25*1000)"
      ]
    },
    {
      "cell_type": "code",
      "execution_count": null,
      "metadata": {
        "id": "FFu6Ota9YBBL"
      },
      "outputs": [],
      "source": [
        "es_callback = keras.callbacks.EarlyStopping(monitor=\"val_accuracy\", restore_best_weights=True, patience=2)"
      ]
    },
    {
      "cell_type": "code",
      "execution_count": null,
      "metadata": {
        "colab": {
          "base_uri": "https://localhost:8080/"
        },
        "id": "LNPWafDLYDxz",
        "outputId": "7a5ee1f2-be8c-4d9a-ee69-dd695204e1f5"
      },
      "outputs": [
        {
          "name": "stdout",
          "output_type": "stream",
          "text": [
            "Epoch 1/10\n",
            "1563/1563 [==============================] - 204s 130ms/step - loss: 7.8708 - accuracy: 0.0525 - val_loss: 7.6566 - val_accuracy: 0.0598\n",
            "Epoch 2/10\n",
            "1563/1563 [==============================] - 208s 133ms/step - loss: 7.0173 - accuracy: 0.0678 - val_loss: 7.7522 - val_accuracy: 0.0665\n",
            "Epoch 3/10\n",
            "1563/1563 [==============================] - 191s 122ms/step - loss: 6.2917 - accuracy: 0.0914 - val_loss: 8.0673 - val_accuracy: 0.0626\n",
            "Epoch 4/10\n",
            "1563/1563 [==============================] - 183s 117ms/step - loss: 5.2346 - accuracy: 0.1501 - val_loss: 8.6263 - val_accuracy: 0.0522\n"
          ]
        },
        {
          "data": {
            "text/plain": [
              "<keras.callbacks.History at 0x7f4551b73710>"
            ]
          },
          "execution_count": 13,
          "metadata": {},
          "output_type": "execute_result"
        }
      ],
      "source": [
        "trigram_nlm.fit(x=X_train, y=Y_train, validation_data= (X_valid, Y_valid), epochs=10, callbacks=[es_callback])"
      ]
    },
    {
      "cell_type": "markdown",
      "metadata": {
        "id": "EjqtJkEhTM5A"
      },
      "source": [
        "### Perplexity"
      ]
    },
    {
      "cell_type": "code",
      "execution_count": null,
      "metadata": {
        "colab": {
          "base_uri": "https://localhost:8080/"
        },
        "id": "LyA7jUruTOp8",
        "outputId": "82decf7b-961e-4be0-f3fb-c1fa9d524152"
      },
      "outputs": [
        {
          "data": {
            "text/plain": [
              "2289.0963513577467"
            ]
          },
          "execution_count": 14,
          "metadata": {},
          "output_type": "execute_result"
        }
      ],
      "source": [
        "trigram_nlm.perplexity(path=\"/content/content/HW1-datasets/test.txt\")"
      ]
    },
    {
      "cell_type": "code",
      "execution_count": null,
      "metadata": {
        "colab": {
          "background_save": true
        },
        "id": "uhXRdg8xTdQx",
        "outputId": "7b757e74-4f06-4a44-dfbf-0828c1869561"
      },
      "outputs": [
        {
          "data": {
            "text/plain": [
              "2113.4442356396216"
            ]
          },
          "execution_count": null,
          "metadata": {},
          "output_type": "execute_result"
        }
      ],
      "source": [
        "trigram_nlm.perplexity(path=\"/content/content/HW1-datasets/train.txt\")"
      ]
    },
    {
      "cell_type": "code",
      "execution_count": null,
      "metadata": {
        "id": "kbKw4uFKToEw",
        "colab": {
          "base_uri": "https://localhost:8080/"
        },
        "outputId": "af897da8-fe8b-4f8d-bc91-290ad23947e4"
      },
      "outputs": [
        {
          "output_type": "execute_result",
          "data": {
            "text/plain": [
              "2309.0123362550376"
            ]
          },
          "metadata": {},
          "execution_count": 16
        }
      ],
      "source": [
        "trigram_nlm.perplexity(path=\"/content/content/HW1-datasets/valid.txt\")"
      ]
    },
    {
      "cell_type": "markdown",
      "metadata": {
        "id": "ARGi3RrBjXEG"
      },
      "source": [
        "### Quantitative Test"
      ]
    },
    {
      "cell_type": "code",
      "execution_count": null,
      "metadata": {
        "id": "K9vx5Zm-YJI_",
        "colab": {
          "base_uri": "https://localhost:8080/"
        },
        "outputId": "c609ad5c-e98c-4ae1-a5b5-2c6f618ac898"
      },
      "outputs": [
        {
          "output_type": "stream",
          "name": "stdout",
          "text": [
            "1563/1563 [==============================] - 38s 24ms/step - loss: 6.3439 - accuracy: 0.0921\n",
            "782/782 [==============================] - 21s 27ms/step - loss: 7.7522 - accuracy: 0.0665\n"
          ]
        },
        {
          "output_type": "execute_result",
          "data": {
            "text/plain": [
              "[7.752236843109131, 0.06648000329732895]"
            ]
          },
          "metadata": {},
          "execution_count": 17
        }
      ],
      "source": [
        "trigram_nlm.evaluate(x=X_train, y=Y_train, verbose=1)\n",
        "trigram_nlm.evaluate(x=X_valid, y=Y_valid, verbose=1)"
      ]
    },
    {
      "cell_type": "code",
      "execution_count": null,
      "metadata": {
        "id": "-1Zxn_wBYdvu"
      },
      "outputs": [],
      "source": [
        "del X_train, Y_train, X_valid, Y_valid"
      ]
    },
    {
      "cell_type": "code",
      "execution_count": null,
      "metadata": {
        "id": "8pShrzfPYfYR",
        "colab": {
          "base_uri": "https://localhost:8080/"
        },
        "outputId": "d0ace8bd-cb96-4763-97e0-dcd891af3124"
      },
      "outputs": [
        {
          "output_type": "stream",
          "name": "stdout",
          "text": [
            "Maximum Data = 61074\n"
          ]
        }
      ],
      "source": [
        "X_test, Y_test = create_neural_dataset(path=\"/content/content/HW1-datasets/test.txt\",\n",
        "                                       number_words=2,\n",
        "                                       data_number_limit=50*1000)"
      ]
    },
    {
      "cell_type": "code",
      "execution_count": null,
      "metadata": {
        "id": "Alo58sA8Yhxg",
        "colab": {
          "base_uri": "https://localhost:8080/"
        },
        "outputId": "99358be6-86ee-4846-a2c3-ceff1df402ff"
      },
      "outputs": [
        {
          "output_type": "stream",
          "name": "stdout",
          "text": [
            "1563/1563 [==============================] - 38s 24ms/step - loss: 7.7399 - accuracy: 0.0659\n"
          ]
        },
        {
          "output_type": "execute_result",
          "data": {
            "text/plain": [
              "[7.739939212799072, 0.06586000323295593]"
            ]
          },
          "metadata": {},
          "execution_count": 20
        }
      ],
      "source": [
        "trigram_nlm.evaluate(x=X_test, y=Y_test, verbose=1)"
      ]
    },
    {
      "cell_type": "code",
      "execution_count": null,
      "metadata": {
        "id": "MOrK6-0yYjL8"
      },
      "outputs": [],
      "source": [
        "del X_test, Y_test"
      ]
    },
    {
      "cell_type": "markdown",
      "metadata": {
        "id": "QoeroCnzjX8K"
      },
      "source": [
        "### Qualitative Test"
      ]
    },
    {
      "cell_type": "code",
      "execution_count": null,
      "metadata": {
        "id": "KAmq7oowjfop",
        "colab": {
          "base_uri": "https://localhost:8080/"
        },
        "outputId": "8dd97a83-8fd9-490f-d5f3-a7c3ab6d0245"
      },
      "outputs": [
        {
          "output_type": "stream",
          "name": "stdout",
          "text": [
            "این سخن حقست اگر نزد سخن گستر \u001b[32mبه\u001b[0m \n",
            "این سخن حقست اگر نزد سخن گستر برند\n",
            "\n",
            "آنکه با یوسف صدیق چنین خواهد \u001b[32mبه\u001b[0m \n",
            "آنکه با یوسف صدیق چنین خواهد کرد\n",
            "\n",
            "هیچ دانی چکند صحبت او با \u001b[32mرا\u001b[0m \n",
            "هیچ دانی چکند صحبت او با دگران\n",
            "\n",
            "سرمه دهی بصر بری سخت خوش است \u001b[32mو\u001b[0m \n",
            "سرمه دهی بصر بری سخت خوش است تاجری\n",
            "\n",
            "آتش ابراهیم را \u001b[32mو\u001b[0m \u001b[32mبه\u001b[0m \n",
            "آتش ابراهیم را نبود زیان\n",
            "\n",
            "من که اندر سر \u001b[32mتو\u001b[0m \u001b[32mو\u001b[0m \n",
            "من که اندر سر جنونی داشتم\n",
            "\n",
            "هر شیر شرزه را که به نیش \u001b[32mتو\u001b[0m \u001b[32mو\u001b[0m \n",
            "هر شیر شرزه را که به نیش سنان گزید\n",
            "\n",
            "هرکه از حق به \u001b[32mو\u001b[0m \u001b[32mتو\u001b[0m \u001b[32mدل\u001b[0m \n",
            "هرکه از حق به سوی او نظریست\n",
            "\n",
            "گفت این از \u001b[32mدل\u001b[0m \u001b[32mآن\u001b[0m \u001b[32mکه\u001b[0m \n",
            "گفت این از خدای باید خواست\n",
            "\n",
            "کلاه لاله که لعل است \u001b[32mو\u001b[0m \u001b[32mو\u001b[0m \u001b[32mبه\u001b[0m \n",
            "کلاه لاله که لعل است اگر تو بشناسی\n",
            "این سخن حقست اگر نزد سخن گستر \u001b[32mبه\u001b[0m \n",
            "این سخن حقست اگر نزد سخن گستر برند\n",
            "\n",
            "آنکه با یوسف صدیق چنین خواهد \u001b[32mبه\u001b[0m \n",
            "آنکه با یوسف صدیق چنین خواهد کرد\n",
            "\n",
            "هیچ دانی چکند صحبت او با \u001b[32mرا\u001b[0m \n",
            "هیچ دانی چکند صحبت او با دگران\n",
            "\n",
            "سرمه دهی بصر بری سخت خوش است \u001b[32mو\u001b[0m \n",
            "سرمه دهی بصر بری سخت خوش است تاجری\n",
            "\n",
            "آتش ابراهیم را \u001b[32mو\u001b[0m \u001b[32mبه\u001b[0m \n",
            "آتش ابراهیم را نبود زیان\n",
            "\n",
            "من که اندر سر \u001b[32mتو\u001b[0m \u001b[32mو\u001b[0m \n",
            "من که اندر سر جنونی داشتم\n",
            "\n",
            "هر شیر شرزه را که به نیش \u001b[32mتو\u001b[0m \u001b[32mو\u001b[0m \n",
            "هر شیر شرزه را که به نیش سنان گزید\n",
            "\n",
            "هرکه از حق به \u001b[32mو\u001b[0m \u001b[32mتو\u001b[0m \u001b[32mدل\u001b[0m \n",
            "هرکه از حق به سوی او نظریست\n",
            "\n",
            "گفت این از \u001b[32mدل\u001b[0m \u001b[32mآن\u001b[0m \u001b[32mکه\u001b[0m \n",
            "گفت این از خدای باید خواست\n",
            "\n",
            "کلاه لاله که لعل است \u001b[32mو\u001b[0m \u001b[32mو\u001b[0m \u001b[32mبه\u001b[0m \n",
            "کلاه لاله که لعل است اگر تو بشناسی\n"
          ]
        }
      ],
      "source": [
        "file = open(\"/content/content/HW1-datasets/test_incomplete.txt\")\n",
        "incomplete_lines = file.readlines()\n",
        "\n",
        "file = open(\"/content/content/HW1-datasets/test_incomplete_gold.txt\")\n",
        "incomplete_gold_lines = file.readlines()\n",
        "\n",
        "for i in range(len(incomplete_lines)):\n",
        "    line = incomplete_lines[i]\n",
        "    digit = int(line[0])\n",
        "    line = line[4:]\n",
        "    line = line.strip()\n",
        "    words = line.split()\n",
        "    \n",
        "    \n",
        "    last_word = words[-1]\n",
        "    next_last_word = words[-2]\n",
        "\n",
        "    print(line, end=\" \")\n",
        "    \n",
        "    for _ in range(digit):\n",
        "        predicted_word = trigram_nlm.single_predict([next_last_word, last_word])\n",
        "\n",
        "        print(f\"\\x1b[32m{predicted_word}\\x1b[0m\", end= \" \")\n",
        "\n",
        "        next_last_word = last_word\n",
        "        last_word = predicted_word\n",
        "  \n",
        "    print()\n",
        "    \n",
        "    print(incomplete_gold_lines[i])"
      ]
    },
    {
      "cell_type": "code",
      "execution_count": null,
      "metadata": {
        "id": "gM0kgKvND5Oc"
      },
      "outputs": [],
      "source": [
        ""
      ]
    }
  ],
  "metadata": {
    "colab": {
      "collapsed_sections": [],
      "name": "NLP_HW1.ipynb",
      "provenance": [],
      "toc_visible": true,
      "authorship_tag": "ABX9TyNoucJinBqG+o4Mb9FIEnJK",
      "include_colab_link": true
    },
    "kernelspec": {
      "display_name": "Python 3",
      "name": "python3"
    },
    "language_info": {
      "name": "python"
    }
  },
  "nbformat": 4,
  "nbformat_minor": 0
}