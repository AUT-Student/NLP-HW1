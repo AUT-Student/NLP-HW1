{
  "cells": [
    {
      "cell_type": "markdown",
      "metadata": {
        "id": "view-in-github",
        "colab_type": "text"
      },
      "source": [
        "<a href=\"https://colab.research.google.com/github/AUT-Student/NLP-HW1/blob/main/NLP_HW1.ipynb\" target=\"_parent\"><img src=\"https://colab.research.google.com/assets/colab-badge.svg\" alt=\"Open In Colab\"/></a>"
      ]
    },
    {
      "cell_type": "markdown",
      "metadata": {
        "id": "e6rp27qwNwJP"
      },
      "source": [
        "# Library"
      ]
    },
    {
      "cell_type": "code",
      "execution_count": 1,
      "metadata": {
        "id": "vJnzzUYZ1BoE"
      },
      "outputs": [],
      "source": [
        "import tensorflow as tf\n",
        "from tensorflow import keras\n",
        "from sklearn.metrics import accuracy_score\n",
        "import numpy as np\n",
        "import random\n",
        "import math"
      ]
    },
    {
      "cell_type": "markdown",
      "metadata": {
        "id": "18SpJaECNuHR"
      },
      "source": [
        "# Dataset"
      ]
    },
    {
      "cell_type": "code",
      "execution_count": 3,
      "metadata": {
        "colab": {
          "base_uri": "https://localhost:8080/"
        },
        "id": "vSRMQW5y0GbV",
        "outputId": "80092368-7ab2-4b8c-e5b7-feaba756e101"
      },
      "outputs": [
        {
          "output_type": "stream",
          "name": "stdout",
          "text": [
            "Downloading...\n",
            "From: https://drive.google.com/uc?id=16C0_9i0io43VfABV3-uukUjJYlM6k-2U\n",
            "To: /content/HW1-datasets.zip\n",
            "100% 3.14M/3.14M [00:00<00:00, 17.0MB/s]\n",
            "Archive:  /content/HW1-datasets.zip\n",
            "   creating: content/HW1-datasets/\n",
            "  inflating: content/HW1-datasets/train.txt  \n",
            "  inflating: content/HW1-datasets/valid.txt  \n",
            "  inflating: content/HW1-datasets/test_incomplete.txt  \n",
            "  inflating: content/HW1-datasets/test.txt  \n",
            "  inflating: content/HW1-datasets/test_incomplete_gold.txt  \n"
          ]
        }
      ],
      "source": [
        "!gdown --id 16C0_9i0io43VfABV3-uukUjJYlM6k-2U\n",
        "!unzip /content/HW1-datasets.zip"
      ]
    },
    {
      "cell_type": "markdown",
      "metadata": {
        "id": "ZfGWWpPEN-aE"
      },
      "source": [
        "# Statistical Language Model"
      ]
    },
    {
      "cell_type": "markdown",
      "metadata": {
        "id": "50IxVNrjOw1U"
      },
      "source": [
        "## Counting"
      ]
    },
    {
      "cell_type": "code",
      "execution_count": null,
      "metadata": {
        "id": "XZfxUo0POQB8"
      },
      "outputs": [],
      "source": [
        "file = open(\"/content/content/HW1-datasets/train.txt\")\n",
        "\n",
        "word_counter = {}\n",
        "pair_counter = {}\n",
        "vocabulary = set()\n",
        "N = 0\n",
        "\n",
        "for line in file.readlines():\n",
        "    words = line.split()\n",
        "    N += len(words)\n",
        "    \n",
        "    for i, word in enumerate(words):\n",
        "        vocabulary.add(word)\n",
        "        if word_counter.get(word) is None:\n",
        "            word_counter[word] = 0\n",
        "        word_counter[word] += 1\n",
        "    \n",
        "        if i>0:\n",
        "            pair = (words[i-1], word)\n",
        "            if pair_counter.get(pair) is None:\n",
        "                pair_counter[pair] = 0\n",
        "            pair_counter[pair] += 1"
      ]
    },
    {
      "cell_type": "markdown",
      "metadata": {
        "id": "pl61UXSjO0WW"
      },
      "source": [
        "## Functions"
      ]
    },
    {
      "cell_type": "code",
      "execution_count": null,
      "metadata": {
        "id": "HoGMfsB3OSns"
      },
      "outputs": [],
      "source": [
        "def create_unigram(delta):\n",
        "  def unigram(word):\n",
        "    if word in vocabulary:\n",
        "      return word_counter[word] / N \n",
        "    else:\n",
        "      return delta / N\n",
        "\n",
        "  return unigram"
      ]
    },
    {
      "cell_type": "code",
      "execution_count": null,
      "metadata": {
        "id": "JrmBTxHTOVQc"
      },
      "outputs": [],
      "source": [
        "def create_bigram(delta, unigram):\n",
        "    def calculate_B(delta):\n",
        "        B_word = {}\n",
        "\n",
        "        for word in vocabulary:\n",
        "          B_word[word] = 0\n",
        "\n",
        "        for pair in pair_counter:\n",
        "            word1 = pair[0]\n",
        "            B_word[word1] += 1\n",
        "        \n",
        "        for word in vocabulary:\n",
        "          if B_word[word]==0:\n",
        "            B_word[word] = 1\n",
        "\n",
        "        return B_word\n",
        "    \n",
        "    B_word = calculate_B(delta)\n",
        "    \n",
        "    def bigram(word1, word2):\n",
        "      p_bg = unigram(word2)\n",
        "      if word1 not in vocabulary:\n",
        "        return p_bg\n",
        "      else:\n",
        "        alpha = delta / word_counter[word1] * B_word[word1]\n",
        "\n",
        "        return (max(pair_counter.get((word1, word2), 0) - delta, 0) / word_counter[word1]) + alpha * p_bg\n",
        "\n",
        "    return bigram"
      ]
    },
    {
      "cell_type": "code",
      "execution_count": null,
      "metadata": {
        "id": "A31fLY_2oq5G"
      },
      "outputs": [],
      "source": [
        "def create_statistical_dataset(path, number_words, line_limit=None, data_number_limit=None):\n",
        "  file = open(path)\n",
        "\n",
        "  X_dataset = []\n",
        "  Y_dataset = []\n",
        "\n",
        "  for i, line in enumerate(file.readlines()):\n",
        "    if line_limit is not None and i >= line_limit:\n",
        "      break\n",
        "\n",
        "    all_words = line.split()\n",
        "\n",
        "    for j in range(number_words, len(all_words)):\n",
        "      words = []\n",
        "      for k in range(number_words):\n",
        "        word = all_words[j-k-1] \n",
        "        words.append(word)\n",
        "      \n",
        "      X_dataset.append(words)\n",
        "\n",
        "      word_target = all_words[j]\n",
        "      Y_dataset.append(word_target)\n",
        "\n",
        "  print(f\"Maximum Data = {len(X_dataset)}\")\n",
        "\n",
        "  if data_number_limit is not None:\n",
        "    random.seed(0)\n",
        "    X_dataset, Y_dataset = zip(*random.sample(list(zip(X_dataset, Y_dataset)), data_number_limit))\n",
        "\n",
        "  X_dataset = np.array(X_dataset)\n",
        "  Y_dataset = np.array(Y_dataset)\n",
        "  return X_dataset, Y_dataset"
      ]
    },
    {
      "cell_type": "markdown",
      "metadata": {
        "id": "bwlvnRgmO8px"
      },
      "source": [
        "## Perplexity"
      ]
    },
    {
      "cell_type": "code",
      "execution_count": null,
      "metadata": {
        "id": "e40Yl-sghFhm"
      },
      "outputs": [],
      "source": [
        "def unigram_perplexity(path):\n",
        "  file = open(path)\n",
        "\n",
        "  counter = 0\n",
        "  probability = 0\n",
        "\n",
        "  for line in file.readlines():\n",
        "    words = line.split()\n",
        "    \n",
        "    for word in words:\n",
        "      probability += math.log(unigram(word))\n",
        "      counter += 1\n",
        "\n",
        "  log_perplexity = -1/counter*probability\n",
        "  \n",
        "  perplexity = math.exp(log_perplexity)\n",
        "\n",
        "  return perplexity"
      ]
    },
    {
      "cell_type": "code",
      "execution_count": null,
      "metadata": {
        "id": "bm8eMaNQok7Z"
      },
      "outputs": [],
      "source": [
        "def bigram_perplexity(path):\n",
        "  file = open(path)\n",
        "\n",
        "  counter = 0\n",
        "  probability = 0\n",
        "\n",
        "  for line in file.readlines():\n",
        "    words = line.split()\n",
        "  \n",
        "    for i in range(1, len(words)):\n",
        "      probability += math.log(bigram(words[i-1], words[i]))\n",
        "      counter += 1\n",
        "\n",
        "  log_perplexity = -1/counter*probability  \n",
        "\n",
        "  perplexity = math.exp(log_perplexity)\n",
        "\n",
        "  return perplexity"
      ]
    },
    {
      "cell_type": "markdown",
      "metadata": {
        "id": "DM5pqRcEYagN"
      },
      "source": [
        "## Fine-Tune"
      ]
    },
    {
      "cell_type": "code",
      "execution_count": null,
      "metadata": {
        "colab": {
          "base_uri": "https://localhost:8080/"
        },
        "id": "UPks11PhuQrC",
        "outputId": "4dc12491-f48b-4454-b73b-c14fccf7a083"
      },
      "outputs": [
        {
          "name": "stdout",
          "output_type": "stream",
          "text": [
            "Delta = 0.9599999999999995 Perplexity = 1828.493440423088\n"
          ]
        }
      ],
      "source": [
        "path = \"/content/content/HW1-datasets/valid.txt\"\n",
        "\n",
        "best_unigram_perplexity = np.inf\n",
        "best_unigram_delta = None\n",
        "\n",
        "for delta in np.arange(0.2, 0.98, 0.02):\n",
        "  unigram = create_unigram(delta=delta)\n",
        "\n",
        "  new_unigram_perplexity = unigram_perplexity(path)\n",
        "\n",
        "  if new_unigram_perplexity < best_unigram_perplexity:\n",
        "    best_unigram_perplexity = new_unigram_perplexity\n",
        "    best_unigram_delta = delta\n",
        "\n",
        "print(f\"Delta = {best_unigram_delta} Perplexity = {best_unigram_perplexity}\")"
      ]
    },
    {
      "cell_type": "code",
      "execution_count": null,
      "metadata": {
        "colab": {
          "base_uri": "https://localhost:8080/"
        },
        "id": "7b0gW7l0qfdc",
        "outputId": "10b7b257-3e9c-4d36-8bf7-f84040c092fc"
      },
      "outputs": [
        {
          "name": "stdout",
          "output_type": "stream",
          "text": [
            "Delta = 0.8799999999999997 Perplexity = 1318.4189504258493\n"
          ]
        }
      ],
      "source": [
        "path = \"/content/content/HW1-datasets/valid.txt\"\n",
        "\n",
        "best_bigram_perplexity = np.inf\n",
        "best_bigram_delta = None\n",
        "\n",
        "for delta in np.arange(0.2, 0.98, 0.02):\n",
        "  unigram = create_unigram(delta=0.96)\n",
        "  bigram = create_bigram(delta=delta, unigram=unigram)\n",
        "\n",
        "  new_bigram_perplexity = bigram_perplexity(path)\n",
        "\n",
        "  if new_bigram_perplexity < best_bigram_perplexity:\n",
        "    best_bigram_perplexity = new_bigram_perplexity\n",
        "    best_bigram_delta = delta\n",
        "\n",
        "print(f\"Delta = {best_bigram_delta} Perplexity = {best_bigram_perplexity}\")"
      ]
    },
    {
      "cell_type": "code",
      "execution_count": null,
      "metadata": {
        "id": "4O5V1R7iOXJm"
      },
      "outputs": [],
      "source": [
        "unigram = create_unigram(delta=0.96)\n",
        "bigram = create_bigram(delta=0.88, unigram=unigram)"
      ]
    },
    {
      "cell_type": "code",
      "execution_count": null,
      "metadata": {
        "colab": {
          "base_uri": "https://localhost:8080/"
        },
        "id": "qy4igi1BpC33",
        "outputId": "81b0c13a-f7d2-43cc-a44c-12e16bee5e05"
      },
      "outputs": [
        {
          "name": "stdout",
          "output_type": "stream",
          "text": [
            "Unigram perplexity of train = 1768.173187352548\n",
            "Unigram perplexity of test = 1810.0517762463387\n",
            "Unigram perplexity of valid = 1828.493440423088\n"
          ]
        }
      ],
      "source": [
        "for text in [\"train\", \"test\", \"valid\"]:\n",
        "  path = f\"/content/content/HW1-datasets/{text}.txt\"\n",
        "  print(f\"Unigram perplexity of {text} = {unigram_perplexity(path)}\")"
      ]
    },
    {
      "cell_type": "code",
      "execution_count": null,
      "metadata": {
        "colab": {
          "base_uri": "https://localhost:8080/"
        },
        "id": "kiM_PsJjpFWo",
        "outputId": "b9d135fa-fdf0-4089-f7f8-f29580c8a48e"
      },
      "outputs": [
        {
          "name": "stdout",
          "output_type": "stream",
          "text": [
            "Bigram perplexity of train = 322.6322649838004\n",
            "Bigram perplexity of test = 1326.7163336443393\n",
            "Bigram perplexity of valid = 1318.4189504258493\n"
          ]
        }
      ],
      "source": [
        "for text in [\"train\", \"test\", \"valid\"]:\n",
        "  path = f\"/content/content/HW1-datasets/{text}.txt\"\n",
        "  print(f\"Bigram perplexity of {text} = {bigram_perplexity(path)}\")"
      ]
    },
    {
      "cell_type": "markdown",
      "metadata": {
        "id": "tAPzVoltPGku"
      },
      "source": [
        "## Unigram"
      ]
    },
    {
      "cell_type": "code",
      "execution_count": null,
      "metadata": {
        "id": "yyled_qvvuk2"
      },
      "outputs": [],
      "source": [
        "unigram = create_unigram(delta=0.96)"
      ]
    },
    {
      "cell_type": "markdown",
      "metadata": {
        "id": "SG6A1O_RoHmU"
      },
      "source": [
        "### Quantitative Test"
      ]
    },
    {
      "cell_type": "code",
      "execution_count": null,
      "metadata": {
        "colab": {
          "base_uri": "https://localhost:8080/"
        },
        "id": "hjAVwcQxESbL",
        "outputId": "ddb2c339-d803-4a73-bb2a-620bdf008f7e"
      },
      "outputs": [
        {
          "name": "stdout",
          "output_type": "stream",
          "text": [
            "Maximum Data = 1063985\n",
            "train Accuracy = 0.04028\n",
            "Maximum Data = 85324\n",
            "test Accuracy = 0.03968\n",
            "Maximum Data = 132968\n",
            "valid Accuracy = 0.03992\n"
          ]
        }
      ],
      "source": [
        "for dataset in [\"train\", \"test\", \"valid\"]:\n",
        "  X_test, Y_test = create_statistical_dataset(path=f\"/content/content/HW1-datasets/{dataset}.txt\",\n",
        "                                              number_words=0,\n",
        "                                              data_number_limit=50*1000)\n",
        "\n",
        "  best_word = None\n",
        "  best_probability = -math.inf\n",
        "  for condidate_word in vocabulary:\n",
        "      if unigram(condidate_word) > best_probability:\n",
        "          best_probability = unigram(condidate_word)\n",
        "          best_word = condidate_word\n",
        "\n",
        "  Y_test_predict = []\n",
        "  for _ in range(len(Y_test)):\n",
        "    Y_test_predict.append(best_word)\n",
        "\n",
        "  print(f\"{dataset} Accuracy = {accuracy_score(Y_test, Y_test_predict)}\")"
      ]
    },
    {
      "cell_type": "markdown",
      "metadata": {
        "id": "4sjzKpxWoAhN"
      },
      "source": [
        "### Qualitative Test"
      ]
    },
    {
      "cell_type": "code",
      "execution_count": null,
      "metadata": {
        "colab": {
          "base_uri": "https://localhost:8080/"
        },
        "id": "B2BEpQXNPKqS",
        "outputId": "d025a292-a428-49e1-b645-f40f10c7375b"
      },
      "outputs": [
        {
          "name": "stdout",
          "output_type": "stream",
          "text": [
            "این سخن حقست اگر نزد سخن گستر \u001b[32mو\u001b[0m \n",
            "این سخن حقست اگر نزد سخن گستر برند\n",
            "\n",
            "آنکه با یوسف صدیق چنین خواهد \u001b[32mو\u001b[0m \n",
            "آنکه با یوسف صدیق چنین خواهد کرد\n",
            "\n",
            "هیچ دانی چکند صحبت او با \u001b[32mو\u001b[0m \n",
            "هیچ دانی چکند صحبت او با دگران\n",
            "\n",
            "سرمه دهی بصر بری سخت خوش است \u001b[32mو\u001b[0m \n",
            "سرمه دهی بصر بری سخت خوش است تاجری\n",
            "\n",
            "آتش ابراهیم را \u001b[32mو\u001b[0m \u001b[32mو\u001b[0m \n",
            "آتش ابراهیم را نبود زیان\n",
            "\n",
            "من که اندر سر \u001b[32mو\u001b[0m \u001b[32mو\u001b[0m \n",
            "من که اندر سر جنونی داشتم\n",
            "\n",
            "هر شیر شرزه را که به نیش \u001b[32mو\u001b[0m \u001b[32mو\u001b[0m \n",
            "هر شیر شرزه را که به نیش سنان گزید\n",
            "\n",
            "هرکه از حق به \u001b[32mو\u001b[0m \u001b[32mو\u001b[0m \u001b[32mو\u001b[0m \n",
            "هرکه از حق به سوی او نظریست\n",
            "\n",
            "گفت این از \u001b[32mو\u001b[0m \u001b[32mو\u001b[0m \u001b[32mو\u001b[0m \n",
            "گفت این از خدای باید خواست\n",
            "\n",
            "کلاه لاله که لعل است \u001b[32mو\u001b[0m \u001b[32mو\u001b[0m \u001b[32mو\u001b[0m \n",
            "کلاه لاله که لعل است اگر تو بشناسی\n"
          ]
        }
      ],
      "source": [
        "best_word = None\n",
        "best_probability = -math.inf\n",
        "for condidate_word in vocabulary:\n",
        "    if unigram(condidate_word) > best_probability:\n",
        "        best_probability = unigram(condidate_word)\n",
        "        best_word = condidate_word\n",
        "\n",
        "file = open(\"/content/content/HW1-datasets/test_incomplete.txt\")\n",
        "incomplete_lines = file.readlines()\n",
        "\n",
        "file = open(\"/content/content/HW1-datasets/test_incomplete_gold.txt\")\n",
        "incomplete_gold_lines = file.readlines()\n",
        "\n",
        "for i in range(len(incomplete_lines)):\n",
        "    line = incomplete_lines[i]\n",
        "    digit = int(line[0])\n",
        "    line = line[4:]\n",
        "    print(line.strip(), end=\" \")\n",
        "    for _ in range(digit):\n",
        "        print(f\"\\x1b[32m{best_word}\\x1b[0m\", end= \" \")\n",
        "    print()\n",
        "    \n",
        "    print(incomplete_gold_lines[i])    "
      ]
    },
    {
      "cell_type": "markdown",
      "metadata": {
        "id": "mEguCcW1PLz6"
      },
      "source": [
        "## Bigram"
      ]
    },
    {
      "cell_type": "code",
      "execution_count": null,
      "metadata": {
        "id": "LbAJdd2YxMDG"
      },
      "outputs": [],
      "source": [
        "bigram = create_bigram(delta=0.88, unigram=unigram)"
      ]
    },
    {
      "cell_type": "markdown",
      "metadata": {
        "id": "boAS54xPoRI3"
      },
      "source": [
        "### Quantitative Test"
      ]
    },
    {
      "cell_type": "code",
      "execution_count": null,
      "metadata": {
        "colab": {
          "base_uri": "https://localhost:8080/"
        },
        "id": "Ms_jAuTlw6wa",
        "outputId": "d0c891d8-4b86-4c32-c56d-430734d7eb80"
      },
      "outputs": [
        {
          "name": "stdout",
          "output_type": "stream",
          "text": [
            "Maximum Data = 912870\n",
            "i = 0\n",
            "i = 500\n",
            "i = 1000\n",
            "i = 1500\n",
            "train Accuracy = 0.1295\n",
            "Maximum Data = 114079\n",
            "i = 0\n",
            "i = 500\n",
            "i = 1000\n",
            "i = 1500\n",
            "valid Accuracy = 0.0765\n",
            "Maximum Data = 73199\n",
            "i = 0\n",
            "i = 500\n",
            "i = 1000\n",
            "i = 1500\n",
            "test Accuracy = 0.08\n"
          ]
        }
      ],
      "source": [
        "for dataset in [\"train\", \"valid\", \"test\"]:\n",
        "\n",
        "  X_test, Y_test = create_statistical_dataset(path=f\"/content/content/HW1-datasets/{dataset}.txt\",\n",
        "                                              number_words=1,\n",
        "                                              data_number_limit=2*1000)  \n",
        "\n",
        "  Y_test_predict = []\n",
        "\n",
        "  for i in range(len(Y_test)):\n",
        "    if i%500 == 0:\n",
        "      print(f\"i = {i}\")\n",
        "\n",
        "    Y_test[i]\n",
        "    best_word = None\n",
        "    best_probability = -math.inf\n",
        "    last_word = X_test[i][0]\n",
        "\n",
        "    for condidate_word in vocabulary:\n",
        "      if bigram(last_word, condidate_word) > best_probability:\n",
        "          best_probability = bigram(last_word, condidate_word)\n",
        "          best_word = condidate_word\n",
        "\n",
        "    Y_test_predict.append(best_word)\n",
        "\n",
        "  print(f\"{dataset} Accuracy = {accuracy_score(Y_test, Y_test_predict)}\")"
      ]
    },
    {
      "cell_type": "markdown",
      "metadata": {
        "id": "32uyvQtKoU9b"
      },
      "source": [
        "### Qualitative Test"
      ]
    },
    {
      "cell_type": "code",
      "execution_count": null,
      "metadata": {
        "id": "3lhK_uBpPPzx"
      },
      "outputs": [],
      "source": [
        "file = open(\"/content/content/HW1-datasets/test_incomplete.txt\")\n",
        "incomplete_lines = file.readlines()\n",
        "\n",
        "file = open(\"/content/content/HW1-datasets/test_incomplete_gold.txt\")\n",
        "incomplete_gold_lines = file.readlines()\n",
        "\n",
        "for i in range(len(incomplete_lines)):\n",
        "    line = incomplete_lines[i]\n",
        "    digit = int(line[0])\n",
        "    line = line[4:]\n",
        "    line = line.strip()\n",
        "    words = line.split()\n",
        "    \n",
        "    last_word = words[-1]\n",
        "    \n",
        "    print(line, end=\" \")\n",
        "    \n",
        "    for _ in range(digit):        \n",
        "        best_word = None\n",
        "        best_probability = -math.inf\n",
        "        \n",
        "        for condidate_word in vocabulary:\n",
        "            if bigram(last_word, condidate_word) > best_probability:\n",
        "                best_probability = bigram(last_word, condidate_word)\n",
        "                best_word = condidate_word\n",
        "            \n",
        "        print(f\"\\x1b[32m{best_word}\\x1b[0m\", end= \" \")\n",
        "        last_word = best_word\n",
        "    \n",
        "    print()\n",
        "    \n",
        "    print(incomplete_gold_lines[i])  "
      ]
    },
    {
      "cell_type": "markdown",
      "metadata": {
        "id": "mE8eCJIqNo4Z"
      },
      "source": [
        "# Neural Language Model"
      ]
    },
    {
      "cell_type": "markdown",
      "metadata": {
        "id": "73VIJ1hZPsJM"
      },
      "source": [
        "## Vocabulary"
      ]
    },
    {
      "cell_type": "code",
      "execution_count": 2,
      "metadata": {
        "colab": {
          "base_uri": "https://localhost:8080/"
        },
        "id": "hiuj1h6ZcmhY",
        "outputId": "87c9a515-c8be-4935-c584-b5d18464b102"
      },
      "outputs": [
        {
          "output_type": "stream",
          "name": "stdout",
          "text": [
            "Vocabulary Size = 21188\n"
          ]
        }
      ],
      "source": [
        "file = open(\"/content/content/HW1-datasets/train.txt\")\n",
        "\n",
        "vocabulary = set()\n",
        "\n",
        "for i, line in enumerate(file.readlines()):\n",
        "  if i < 30*1000:\n",
        "    words = line.split()\n",
        "\n",
        "    for word in words:\n",
        "      vocabulary.add(word)\n",
        "\n",
        "vocabulary = sorted(vocabulary)\n",
        "print(f\"Vocabulary Size = {len(vocabulary)}\")"
      ]
    },
    {
      "cell_type": "markdown",
      "metadata": {
        "id": "Uh2LXDOjPwss"
      },
      "source": [
        "## Model"
      ]
    },
    {
      "cell_type": "code",
      "execution_count": 20,
      "metadata": {
        "id": "e77K_UbOeJZs"
      },
      "outputs": [],
      "source": [
        "from bisect import bisect_left\n",
        "\n",
        "class NLM(keras.Model):\n",
        "  def __init__(self, vocabulary_size, input_size, embedding_size=128, hidden_size=256):\n",
        "    super().__init__()\n",
        "    self.input_size = input_size\n",
        "    self.model = keras.models.Sequential([\n",
        "                                          keras.layers.Input((input_size,), name=\"Input\"),\n",
        "                                          keras.layers.Embedding(vocabulary_size + 1, embedding_size, name=\"Embedding\"),\n",
        "                                          keras.layers.Flatten(name=\"Flatten\"),\n",
        "                                          keras.layers.Dense(units=hidden_size, name=\"Hidden\"),\n",
        "                                          keras.layers.Dense(units=vocabulary_size + 1, activation=\"softmax\", name=\"Output\"),\n",
        "    ])\n",
        "\n",
        "  def call(self, inputs):\n",
        "    return self.model(inputs)\n",
        "\n",
        "  def single_predict(self, words):\n",
        "    indexes = []\n",
        "    for word in words:\n",
        "      index = convert_word_to_index(word)\n",
        "      indexes.append(index)\n",
        "    \n",
        "    indexes = tf.constant(indexes)\n",
        "    indexes = tf.expand_dims(indexes, 0)\n",
        "\n",
        "    model_output =  self.model(indexes)\n",
        "\n",
        "    predicted_word_indexes = keras.backend.argmax(model_output, axis=1)\n",
        "    predicted_word_index = tf.squeeze(predicted_word_indexes) \n",
        "    predicted_word = convert_index_to_word(predicted_word_index)\n",
        "    return predicted_word\n",
        "\n",
        "  def perplexity(self, path):\n",
        "\n",
        "    file = open(path)\n",
        "\n",
        "    counter = 0\n",
        "    probability = 0\n",
        "\n",
        "    for line_number, line in enumerate(file.readlines()):\n",
        "      words = line.split()\n",
        "\n",
        "      for i in range(self.input_size, len(words)):\n",
        "        target_word = words[i]\n",
        "        target_index = convert_word_to_index(target_word)\n",
        "\n",
        "        indexes = []\n",
        "        for j in range(self.input_size):\n",
        "          index = convert_word_to_index(words[i-j-1])\n",
        "          indexes.append(index)\n",
        "\n",
        "        indexes = tf.constant(indexes)\n",
        "        indexes = tf.expand_dims(indexes, 0)\n",
        "\n",
        "        model_output =  self.model(indexes)\n",
        "        model_output = model_output.numpy()[0]\n",
        "\n",
        "        p_target = model_output[target_index]\n",
        "\n",
        "        probability += math.log(p_target)\n",
        "        counter += 1\n",
        "\n",
        "    log_perplexity = -1/counter*probability  \n",
        "\n",
        "    perplexity = math.exp(log_perplexity)\n",
        "\n",
        "    return perplexity"
      ]
    },
    {
      "cell_type": "markdown",
      "metadata": {
        "id": "yxJ9okWyRqsh"
      },
      "source": [
        "## Functions"
      ]
    },
    {
      "cell_type": "code",
      "execution_count": 21,
      "metadata": {
        "id": "ZOhhnodXRn_7"
      },
      "outputs": [],
      "source": [
        "def convert_word_to_index(word):\n",
        "  pos = bisect_left(vocabulary, word, 0, len(vocabulary))\n",
        "  return pos if pos != len(vocabulary) and vocabulary[pos] == word else len(vocabulary)"
      ]
    },
    {
      "cell_type": "code",
      "execution_count": 22,
      "metadata": {
        "id": "vI8fSzGIR3WH"
      },
      "outputs": [],
      "source": [
        "def convert_index_to_word(index):\n",
        "  if index==len(vocabulary):\n",
        "    return \"Unknown\"\n",
        "  else:\n",
        "    return vocabulary[index]"
      ]
    },
    {
      "cell_type": "code",
      "execution_count": 23,
      "metadata": {
        "id": "ucaZ0YAnR44l"
      },
      "outputs": [],
      "source": [
        "def create_neural_dataset(path, number_words, line_limit=None, data_number_limit=None):\n",
        "  file = open(path)\n",
        "\n",
        "  X_dataset = []\n",
        "  Y_dataset = []\n",
        "\n",
        "  for i, line in enumerate(file.readlines()):\n",
        "    if line_limit is not None and i >= line_limit:\n",
        "      break\n",
        "\n",
        "    words = line.split()\n",
        "\n",
        "    for j in range(number_words, len(words)):\n",
        "      indexes = []\n",
        "      for k in range(number_words):\n",
        "        word = words[j-k-1]\n",
        "        index = convert_word_to_index(word) \n",
        "        indexes.append(index)\n",
        "      \n",
        "      X_dataset.append(indexes)\n",
        "\n",
        "      word_target = words[j]\n",
        "      index_target = convert_word_to_index(word_target)\n",
        "      Y_dataset.append(index_target)\n",
        "\n",
        "  print(f\"Maximum Data = {len(X_dataset)}\")\n",
        "  \n",
        "  if data_number_limit is not None:\n",
        "    random.seed(0)\n",
        "    X_dataset, Y_dataset = zip(*random.sample(list(zip(X_dataset, Y_dataset)), data_number_limit))\n",
        "\n",
        "  X_dataset = np.array(X_dataset)\n",
        "  Y_dataset = tf.one_hot(indices=Y_dataset, depth=len(vocabulary)+1).numpy()\n",
        "  return X_dataset, Y_dataset"
      ]
    },
    {
      "cell_type": "markdown",
      "metadata": {
        "id": "4jMD3UatSo0T"
      },
      "source": [
        "## Bigram"
      ]
    },
    {
      "cell_type": "markdown",
      "metadata": {
        "id": "Z0Nhsam6YsFR"
      },
      "source": [
        "### Craete and Train"
      ]
    },
    {
      "cell_type": "code",
      "execution_count": 24,
      "metadata": {
        "id": "O-LXOt3iSrnY"
      },
      "outputs": [],
      "source": [
        "bigram_nlm = NLM(vocabulary_size=len(vocabulary), input_size=1)"
      ]
    },
    {
      "cell_type": "code",
      "execution_count": 25,
      "metadata": {
        "id": "CNWnHdIhSWET"
      },
      "outputs": [],
      "source": [
        "bigram_nlm.compile(optimizer=\"adam\", loss=\"categorical_crossentropy\", metrics=[\"accuracy\"])"
      ]
    },
    {
      "cell_type": "code",
      "execution_count": 9,
      "metadata": {
        "colab": {
          "base_uri": "https://localhost:8080/"
        },
        "id": "igR-h-a0WtnQ",
        "outputId": "109c64f7-b4df-45e9-eaf7-7bf0045080cb"
      },
      "outputs": [
        {
          "output_type": "stream",
          "name": "stdout",
          "text": [
            "Maximum Data = 181278\n"
          ]
        }
      ],
      "source": [
        "X_train, Y_train = create_neural_dataset(path=\"/content/content/HW1-datasets/train.txt\",\n",
        "                                         number_words=1,\n",
        "                                         line_limit=30*1000,\n",
        "                                         data_number_limit=50*1000)"
      ]
    },
    {
      "cell_type": "code",
      "execution_count": 10,
      "metadata": {
        "colab": {
          "base_uri": "https://localhost:8080/"
        },
        "id": "cdwYq8Vdfwuk",
        "outputId": "35925d63-a882-4e66-e534-71cb55f9a5f4"
      },
      "outputs": [
        {
          "output_type": "stream",
          "name": "stdout",
          "text": [
            "Maximum Data = 114079\n"
          ]
        }
      ],
      "source": [
        "X_valid, Y_valid = create_neural_dataset(path=\"/content/content/HW1-datasets/valid.txt\",\n",
        "                                         number_words=1,\n",
        "                                         data_number_limit=25*1000)"
      ]
    },
    {
      "cell_type": "code",
      "execution_count": 11,
      "metadata": {
        "id": "ZdMHNi9rWTWL"
      },
      "outputs": [],
      "source": [
        "es_callback = keras.callbacks.EarlyStopping(monitor=\"val_accuracy\", restore_best_weights=True, patience=2)"
      ]
    },
    {
      "cell_type": "code",
      "execution_count": null,
      "metadata": {
        "colab": {
          "base_uri": "https://localhost:8080/"
        },
        "id": "vOfT191CNuAZ",
        "outputId": "14ea357b-e8b7-4c7c-da3f-bb78b0ca6fbc"
      },
      "outputs": [
        {
          "name": "stdout",
          "output_type": "stream",
          "text": [
            "1563/1563 [==============================] - 224s 142ms/step - loss: 7.7943 - accuracy: 0.0509 - val_loss: 7.6159 - val_accuracy: 0.0550\n"
          ]
        },
        {
          "data": {
            "text/plain": [
              "<keras.callbacks.History at 0x7fe2674eba50>"
            ]
          },
          "execution_count": 12,
          "metadata": {},
          "output_type": "execute_result"
        }
      ],
      "source": [
        "bigram_nlm.fit(x=X_train, y=Y_train, validation_data= (X_valid, Y_valid), epochs=10, callbacks=[es_callback])"
      ]
    },
    {
      "cell_type": "markdown",
      "metadata": {
        "id": "COeLUI5a6HhO"
      },
      "source": [
        "### Perplexity"
      ]
    },
    {
      "cell_type": "code",
      "execution_count": 26,
      "metadata": {
        "colab": {
          "base_uri": "https://localhost:8080/"
        },
        "id": "xo3PJRzd6Jbh",
        "outputId": "14adf22d-1072-4e6e-e4e4-7175bb8bff58"
      },
      "outputs": [
        {
          "output_type": "execute_result",
          "data": {
            "text/plain": [
              "21190.042761882087"
            ]
          },
          "metadata": {},
          "execution_count": 26
        }
      ],
      "source": [
        "bigram_nlm.perplexity(path=\"/content/content/HW1-datasets/test.txt\")"
      ]
    },
    {
      "cell_type": "code",
      "execution_count": null,
      "metadata": {
        "colab": {
          "base_uri": "https://localhost:8080/"
        },
        "id": "clg_2HsY7S2N",
        "outputId": "2abaf8b0-5a16-444e-e2d9-0fdfdaea9c59"
      },
      "outputs": [
        {
          "data": {
            "text/plain": [
              "21188"
            ]
          },
          "execution_count": 16,
          "metadata": {},
          "output_type": "execute_result"
        }
      ],
      "source": [
        "len(vocabulary)"
      ]
    },
    {
      "cell_type": "markdown",
      "metadata": {
        "id": "tONcfWFZYw9r"
      },
      "source": [
        "### Quantitative Test"
      ]
    },
    {
      "cell_type": "code",
      "execution_count": null,
      "metadata": {
        "colab": {
          "base_uri": "https://localhost:8080/"
        },
        "id": "AWMYBvWxXU0X",
        "outputId": "263bcd0b-d3a6-418c-a31a-0cfea1d39a69"
      },
      "outputs": [
        {
          "name": "stdout",
          "output_type": "stream",
          "text": [
            "1563/1563 [==============================] - 51s 33ms/step - loss: 7.0800 - accuracy: 0.0584\n",
            "Train Accuracy = 0.05835999920964241\n",
            "782/782 [==============================] - 25s 32ms/step - loss: 6.8476 - accuracy: 0.0540\n",
            "Valid Accuracy = 0.05400000140070915\n"
          ]
        }
      ],
      "source": [
        "print(f\"Train Accuracy = {bigram_nlm.evaluate(x=X_train, y=Y_train, verbose=1)[1]}\")\n",
        "print(f\"Valid Accuracy = {bigram_nlm.evaluate(x=X_valid, y=Y_valid, verbose=1)[1]}\")"
      ]
    },
    {
      "cell_type": "code",
      "execution_count": null,
      "metadata": {
        "id": "Qojcb_AqXGGq"
      },
      "outputs": [],
      "source": [
        "del X_train, Y_train, X_valid, Y_valid"
      ]
    },
    {
      "cell_type": "code",
      "execution_count": null,
      "metadata": {
        "colab": {
          "base_uri": "https://localhost:8080/"
        },
        "id": "Rz3vTu7IibI-",
        "outputId": "0e883d47-3aff-4ab7-f1c8-bb4278004c52"
      },
      "outputs": [
        {
          "name": "stdout",
          "output_type": "stream",
          "text": [
            "Maximum Data = 73199\n"
          ]
        }
      ],
      "source": [
        "X_test, Y_test = create_neural_dataset(path=\"/content/content/HW1-datasets/test.txt\",\n",
        "                                       number_words=1,\n",
        "                                       data_number_limit=50*1000)"
      ]
    },
    {
      "cell_type": "code",
      "execution_count": null,
      "metadata": {
        "colab": {
          "base_uri": "https://localhost:8080/"
        },
        "id": "e0zIuyUtXLYU",
        "outputId": "c299056e-7dcc-4cd5-96f8-0ee32778290c"
      },
      "outputs": [
        {
          "name": "stdout",
          "output_type": "stream",
          "text": [
            "1563/1563 [==============================] - 82s 52ms/step - loss: 6.8664 - accuracy: 0.0528\n",
            "Test Accuracy = 0.05283999815583229\n"
          ]
        }
      ],
      "source": [
        "print(f\"Test Accuracy = {bigram_nlm.evaluate(x=X_test, y=Y_test, verbose=1)[1]}\")"
      ]
    },
    {
      "cell_type": "code",
      "execution_count": null,
      "metadata": {
        "id": "_qLKTR14YUmV"
      },
      "outputs": [],
      "source": [
        "del X_test, Y_test"
      ]
    },
    {
      "cell_type": "markdown",
      "metadata": {
        "id": "CGLfy2UuZbfS"
      },
      "source": [
        "### Qualitative Test"
      ]
    },
    {
      "cell_type": "code",
      "execution_count": null,
      "metadata": {
        "colab": {
          "base_uri": "https://localhost:8080/"
        },
        "id": "7Bu77FVgZeZz",
        "outputId": "37ccff41-f1ab-497d-ac24-2738f30158b1"
      },
      "outputs": [
        {
          "name": "stdout",
          "output_type": "stream",
          "text": [
            "این سخن حقست اگر نزد سخن گستر \u001b[32mو\u001b[0m \n",
            "این سخن حقست اگر نزد سخن گستر برند\n",
            "\n",
            "آنکه با یوسف صدیق چنین خواهد \u001b[32mو\u001b[0m \n",
            "آنکه با یوسف صدیق چنین خواهد کرد\n",
            "\n",
            "هیچ دانی چکند صحبت او با \u001b[32mتو\u001b[0m \n",
            "هیچ دانی چکند صحبت او با دگران\n",
            "\n",
            "سرمه دهی بصر بری سخت خوش است \u001b[32mو\u001b[0m \n",
            "سرمه دهی بصر بری سخت خوش است تاجری\n",
            "\n",
            "آتش ابراهیم را \u001b[32mبه\u001b[0m \u001b[32mسر\u001b[0m \n",
            "آتش ابراهیم را نبود زیان\n",
            "\n",
            "من که اندر سر \u001b[32mو\u001b[0m \u001b[32mآن\u001b[0m \n",
            "من که اندر سر جنونی داشتم\n",
            "\n",
            "هر شیر شرزه را که به نیش \u001b[32mو\u001b[0m \u001b[32mآن\u001b[0m \n",
            "هر شیر شرزه را که به نیش سنان گزید\n",
            "\n",
            "هرکه از حق به \u001b[32mسر\u001b[0m \u001b[32mو\u001b[0m \u001b[32mآن\u001b[0m \n",
            "هرکه از حق به سوی او نظریست\n",
            "\n",
            "گفت این از \u001b[32mآن\u001b[0m \u001b[32mو\u001b[0m \u001b[32mآن\u001b[0m \n",
            "گفت این از خدای باید خواست\n",
            "\n",
            "کلاه لاله که لعل است \u001b[32mو\u001b[0m \u001b[32mآن\u001b[0m \u001b[32mو\u001b[0m \n",
            "کلاه لاله که لعل است اگر تو بشناسی\n"
          ]
        }
      ],
      "source": [
        "file = open(\"/content/content/HW1-datasets/test_incomplete.txt\")\n",
        "incomplete_lines = file.readlines()\n",
        "\n",
        "file = open(\"/content/content/HW1-datasets/test_incomplete_gold.txt\")\n",
        "incomplete_gold_lines = file.readlines()\n",
        "\n",
        "for i in range(len(incomplete_lines)):\n",
        "    line = incomplete_lines[i]\n",
        "    digit = int(line[0])\n",
        "    line = line[4:]\n",
        "    line = line.strip()\n",
        "    words = line.split()\n",
        "    \n",
        "    last_word = words[-1]\n",
        "\n",
        "    print(line, end=\" \")\n",
        "    \n",
        "    for _ in range(digit):\n",
        "        predicted_word = bigram_nlm.single_predict([last_word])\n",
        "\n",
        "        print(f\"\\x1b[32m{predicted_word}\\x1b[0m\", end= \" \")\n",
        "\n",
        "        last_word = predicted_word\n",
        "    \n",
        "    print()\n",
        "    \n",
        "    print(incomplete_gold_lines[i])  "
      ]
    },
    {
      "cell_type": "markdown",
      "metadata": {
        "id": "X1RcEmtpQndF"
      },
      "source": [
        "## Trigram"
      ]
    },
    {
      "cell_type": "markdown",
      "metadata": {
        "id": "T64j7G1WjVAL"
      },
      "source": [
        "### Craete and Train"
      ]
    },
    {
      "cell_type": "code",
      "execution_count": null,
      "metadata": {
        "id": "MxY1y2WSXxel"
      },
      "outputs": [],
      "source": [
        "trigram_nlm = NLM(vocabulary_size=len(vocabulary), input_size=2)"
      ]
    },
    {
      "cell_type": "code",
      "execution_count": null,
      "metadata": {
        "id": "7RaacpZkX2S8"
      },
      "outputs": [],
      "source": [
        "trigram_nlm.compile(optimizer=\"adam\", loss=\"categorical_crossentropy\", metrics=[\"accuracy\"])"
      ]
    },
    {
      "cell_type": "code",
      "execution_count": null,
      "metadata": {
        "colab": {
          "base_uri": "https://localhost:8080/"
        },
        "id": "ExPrRu1YX6uw",
        "outputId": "01e649a2-9d4a-46b8-9cca-17be64f9e496"
      },
      "outputs": [
        {
          "name": "stdout",
          "output_type": "stream",
          "text": [
            "Maximum Data = 151278\n"
          ]
        }
      ],
      "source": [
        "X_train, Y_train = create_neural_dataset(path=\"/content/content/HW1-datasets/train.txt\",\n",
        "                                         number_words=2,\n",
        "                                         line_limit=30*1000,\n",
        "                                         data_number_limit=50*1000)"
      ]
    },
    {
      "cell_type": "code",
      "execution_count": null,
      "metadata": {
        "colab": {
          "base_uri": "https://localhost:8080/"
        },
        "id": "UViZ__yBX77z",
        "outputId": "7d2ec741-f1eb-4c97-bb2c-af49bfb32eb4"
      },
      "outputs": [
        {
          "name": "stdout",
          "output_type": "stream",
          "text": [
            "Maximum Data = 95190\n"
          ]
        }
      ],
      "source": [
        "X_valid, Y_valid = create_neural_dataset(path=\"/content/content/HW1-datasets/valid.txt\",\n",
        "                                         number_words=2,\n",
        "                                         data_number_limit=25*1000)"
      ]
    },
    {
      "cell_type": "code",
      "execution_count": null,
      "metadata": {
        "id": "FFu6Ota9YBBL"
      },
      "outputs": [],
      "source": [
        "es_callback = keras.callbacks.EarlyStopping(monitor=\"val_accuracy\", restore_best_weights=True, patience=2)"
      ]
    },
    {
      "cell_type": "code",
      "execution_count": null,
      "metadata": {
        "colab": {
          "background_save": true,
          "base_uri": "https://localhost:8080/"
        },
        "id": "LNPWafDLYDxz",
        "outputId": "82f73bfa-d71e-459a-f2db-017f4e732e05"
      },
      "outputs": [
        {
          "name": "stdout",
          "output_type": "stream",
          "text": [
            "Epoch 1/20\n",
            "1563/1563 [==============================] - 198s 126ms/step - loss: 7.8714 - accuracy: 0.0527 - val_loss: 7.6445 - val_accuracy: 0.0592\n",
            "Epoch 2/20\n",
            "1563/1563 [==============================] - 195s 125ms/step - loss: 7.0047 - accuracy: 0.0678 - val_loss: 7.7513 - val_accuracy: 0.0669\n",
            "Epoch 3/20\n",
            "1563/1563 [==============================] - 199s 127ms/step - loss: 6.2641 - accuracy: 0.0945 - val_loss: 8.0549 - val_accuracy: 0.0629\n",
            "Epoch 4/20\n",
            "1563/1563 [==============================] - 203s 130ms/step - loss: 5.2110 - accuracy: 0.1530 - val_loss: 8.6134 - val_accuracy: 0.0521\n",
            "Epoch 5/20\n",
            "1563/1563 [==============================] - 200s 128ms/step - loss: 4.0537 - accuracy: 0.2780 - val_loss: 9.3583 - val_accuracy: 0.0459\n",
            "Epoch 6/20\n",
            "1563/1563 [==============================] - 199s 127ms/step - loss: 3.1390 - accuracy: 0.3939 - val_loss: 10.0094 - val_accuracy: 0.0434\n",
            "Epoch 7/20\n",
            "1563/1563 [==============================] - 200s 128ms/step - loss: 2.6027 - accuracy: 0.4568 - val_loss: 10.6165 - val_accuracy: 0.0392\n",
            "Epoch 8/20\n",
            "1563/1563 [==============================] - 199s 127ms/step - loss: 2.3047 - accuracy: 0.4939 - val_loss: 11.1166 - val_accuracy: 0.0393\n",
            "Epoch 9/20\n",
            "1563/1563 [==============================] - 199s 128ms/step - loss: 2.1172 - accuracy: 0.5191 - val_loss: 11.5315 - val_accuracy: 0.0380\n",
            "Epoch 10/20\n",
            "1563/1563 [==============================] - 200s 128ms/step - loss: 1.9957 - accuracy: 0.5319 - val_loss: 11.8675 - val_accuracy: 0.0385\n",
            "Epoch 11/20\n",
            "1563/1563 [==============================] - 200s 128ms/step - loss: 1.9044 - accuracy: 0.5467 - val_loss: 12.2086 - val_accuracy: 0.0368\n",
            "Epoch 12/20\n",
            "1563/1563 [==============================] - 202s 129ms/step - loss: 1.8367 - accuracy: 0.5561 - val_loss: 12.4781 - val_accuracy: 0.0368\n",
            "Epoch 13/20\n",
            "1563/1563 [==============================] - 197s 126ms/step - loss: 1.7903 - accuracy: 0.5644 - val_loss: 12.6602 - val_accuracy: 0.0325\n",
            "Epoch 14/20\n",
            "1563/1563 [==============================] - 194s 124ms/step - loss: 1.7462 - accuracy: 0.5725 - val_loss: 12.8925 - val_accuracy: 0.0351\n",
            "Epoch 15/20\n",
            "1563/1563 [==============================] - 196s 126ms/step - loss: 1.7155 - accuracy: 0.5746 - val_loss: 13.0314 - val_accuracy: 0.0356\n",
            "Epoch 16/20\n",
            "1563/1563 [==============================] - 196s 125ms/step - loss: 1.6854 - accuracy: 0.5819 - val_loss: 13.1941 - val_accuracy: 0.0336\n",
            "Epoch 17/20\n",
            "1563/1563 [==============================] - 196s 125ms/step - loss: 1.6643 - accuracy: 0.5837 - val_loss: 13.3387 - val_accuracy: 0.0365\n",
            "Epoch 18/20\n",
            "1563/1563 [==============================] - 195s 125ms/step - loss: 1.6506 - accuracy: 0.5860 - val_loss: 13.4273 - val_accuracy: 0.0328\n",
            "Epoch 19/20\n",
            "1563/1563 [==============================] - 195s 125ms/step - loss: 1.6262 - accuracy: 0.5910 - val_loss: 13.5205 - val_accuracy: 0.0354\n",
            "Epoch 20/20\n",
            "1563/1563 [==============================] - 196s 125ms/step - loss: 1.6093 - accuracy: 0.5925 - val_loss: 13.6120 - val_accuracy: 0.0334\n"
          ]
        },
        {
          "data": {
            "text/plain": [
              "<keras.callbacks.History at 0x7fbe9efef410>"
            ]
          },
          "execution_count": null,
          "metadata": {},
          "output_type": "execute_result"
        }
      ],
      "source": [
        "# trigram_nlm.fit(x=X_train, y=Y_train, validation_data= (X_valid, Y_valid), epochs=10, callbacks=[es_callback])\n",
        "trigram_nlm.fit(x=X_train, y=Y_train, validation_data= (X_valid, Y_valid), epochs=20)"
      ]
    },
    {
      "cell_type": "markdown",
      "metadata": {
        "id": "ARGi3RrBjXEG"
      },
      "source": [
        "### Quantitative Test"
      ]
    },
    {
      "cell_type": "code",
      "execution_count": null,
      "metadata": {
        "colab": {
          "base_uri": "https://localhost:8080/"
        },
        "id": "K9vx5Zm-YJI_",
        "outputId": "ad4a90ec-ca74-4aa2-8047-ae694cc5b1cc"
      },
      "outputs": [
        {
          "name": "stdout",
          "output_type": "stream",
          "text": [
            "1563/1563 [==============================] - 28s 18ms/step - loss: 6.3655 - accuracy: 0.0917\n",
            "782/782 [==============================] - 14s 18ms/step - loss: 6.9179 - accuracy: 0.0648\n"
          ]
        },
        {
          "data": {
            "text/plain": [
              "[6.917877674102783, 0.0647599995136261]"
            ]
          },
          "execution_count": 59,
          "metadata": {},
          "output_type": "execute_result"
        }
      ],
      "source": [
        "trigram_nlm.evaluate(x=X_train, y=Y_train, verbose=1)\n",
        "trigram_nlm.evaluate(x=X_valid, y=Y_valid, verbose=1)"
      ]
    },
    {
      "cell_type": "code",
      "execution_count": null,
      "metadata": {
        "id": "-1Zxn_wBYdvu"
      },
      "outputs": [],
      "source": [
        "del X_train, Y_train, X_valid, Y_valid"
      ]
    },
    {
      "cell_type": "code",
      "execution_count": null,
      "metadata": {
        "colab": {
          "base_uri": "https://localhost:8080/"
        },
        "id": "8pShrzfPYfYR",
        "outputId": "6d4254e1-c071-48c8-f46b-74cae858e5e9"
      },
      "outputs": [
        {
          "name": "stdout",
          "output_type": "stream",
          "text": [
            "Maximum Data = 61074\n"
          ]
        }
      ],
      "source": [
        "X_test, Y_test = create_neural_dataset(path=\"/content/content/HW1-datasets/test.txt\",\n",
        "                                       number_words=2,\n",
        "                                       data_number_limit=50*1000)"
      ]
    },
    {
      "cell_type": "code",
      "execution_count": null,
      "metadata": {
        "colab": {
          "base_uri": "https://localhost:8080/"
        },
        "id": "Alo58sA8Yhxg",
        "outputId": "90944974-edd2-483a-ee0d-cf808172940a"
      },
      "outputs": [
        {
          "name": "stdout",
          "output_type": "stream",
          "text": [
            "1563/1563 [==============================] - 24s 15ms/step - loss: 6.9064 - accuracy: 0.0627\n"
          ]
        },
        {
          "data": {
            "text/plain": [
              "[6.906448841094971, 0.06266000121831894]"
            ]
          },
          "execution_count": 63,
          "metadata": {},
          "output_type": "execute_result"
        }
      ],
      "source": [
        "trigram_nlm.evaluate(x=X_test, y=Y_test, verbose=1)"
      ]
    },
    {
      "cell_type": "code",
      "execution_count": null,
      "metadata": {
        "id": "MOrK6-0yYjL8"
      },
      "outputs": [],
      "source": [
        "del X_test, Y_test"
      ]
    },
    {
      "cell_type": "markdown",
      "metadata": {
        "id": "QoeroCnzjX8K"
      },
      "source": [
        "### Qualitative Test"
      ]
    },
    {
      "cell_type": "code",
      "execution_count": null,
      "metadata": {
        "colab": {
          "base_uri": "https://localhost:8080/"
        },
        "id": "KAmq7oowjfop",
        "outputId": "29706c2b-33eb-471f-b628-c795726d817a"
      },
      "outputs": [
        {
          "name": "stdout",
          "output_type": "stream",
          "text": [
            "این سخن حقست اگر نزد سخن گستر \u001b[32mکه\u001b[0m \n",
            "این سخن حقست اگر نزد سخن گستر برند\n",
            "\n",
            "آنکه با یوسف صدیق چنین خواهد \u001b[32mدر\u001b[0m \n",
            "آنکه با یوسف صدیق چنین خواهد کرد\n",
            "\n",
            "هیچ دانی چکند صحبت او با \u001b[32mرا\u001b[0m \n",
            "هیچ دانی چکند صحبت او با دگران\n",
            "\n",
            "سرمه دهی بصر بری سخت خوش است \u001b[32mو\u001b[0m \n",
            "سرمه دهی بصر بری سخت خوش است تاجری\n",
            "\n",
            "آتش ابراهیم را \u001b[32mو\u001b[0m \u001b[32mز\u001b[0m \n",
            "آتش ابراهیم را نبود زیان\n",
            "\n",
            "من که اندر سر \u001b[32mمن\u001b[0m \u001b[32mو\u001b[0m \n",
            "من که اندر سر جنونی داشتم\n",
            "\n",
            "هر شیر شرزه را که به نیش \u001b[32mدست\u001b[0m \u001b[32mبه\u001b[0m \n",
            "هر شیر شرزه را که به نیش سنان گزید\n",
            "\n",
            "هرکه از حق به \u001b[32mو\u001b[0m \u001b[32mدست\u001b[0m \u001b[32mدل\u001b[0m \n",
            "هرکه از حق به سوی او نظریست\n",
            "\n",
            "گفت این از \u001b[32mسو\u001b[0m \u001b[32mآن\u001b[0m \u001b[32mکه\u001b[0m \n",
            "گفت این از خدای باید خواست\n",
            "\n",
            "کلاه لاله که لعل است \u001b[32mو\u001b[0m \u001b[32mو\u001b[0m \u001b[32mدل\u001b[0m \n",
            "کلاه لاله که لعل است اگر تو بشناسی\n"
          ]
        }
      ],
      "source": [
        "file = open(\"/content/content/HW1-datasets/test_incomplete.txt\")\n",
        "incomplete_lines = file.readlines()\n",
        "\n",
        "file = open(\"/content/content/HW1-datasets/test_incomplete_gold.txt\")\n",
        "incomplete_gold_lines = file.readlines()\n",
        "\n",
        "for i in range(len(incomplete_lines)):\n",
        "    line = incomplete_lines[i]\n",
        "    digit = int(line[0])\n",
        "    line = line[4:]\n",
        "    line = line.strip()\n",
        "    words = line.split()\n",
        "    \n",
        "    \n",
        "    last_word = words[-1]\n",
        "    next_last_word = words[-2]\n",
        "\n",
        "    print(line, end=\" \")\n",
        "    \n",
        "    for _ in range(digit):\n",
        "        predicted_word = trigram_nlm.single_predict([next_last_word, last_word])\n",
        "\n",
        "        print(f\"\\x1b[32m{predicted_word}\\x1b[0m\", end= \" \")\n",
        "\n",
        "        next_last_word = last_word\n",
        "        last_word = predicted_word\n",
        "  \n",
        "    print()\n",
        "    \n",
        "    print(incomplete_gold_lines[i])  "
      ]
    },
    {
      "cell_type": "code",
      "execution_count": null,
      "metadata": {
        "id": "gM0kgKvND5Oc"
      },
      "outputs": [],
      "source": [
        ""
      ]
    }
  ],
  "metadata": {
    "colab": {
      "collapsed_sections": [],
      "name": "NLP_HW1.ipynb",
      "toc_visible": true,
      "provenance": [],
      "authorship_tag": "ABX9TyMuw/Z9XBzpNeQEUi7tdkMJ",
      "include_colab_link": true
    },
    "kernelspec": {
      "display_name": "Python 3",
      "name": "python3"
    },
    "language_info": {
      "name": "python"
    }
  },
  "nbformat": 4,
  "nbformat_minor": 0
}