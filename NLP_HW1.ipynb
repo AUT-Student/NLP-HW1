{
  "nbformat": 4,
  "nbformat_minor": 0,
  "metadata": {
    "colab": {
      "name": "NLP_HW1.ipynb",
      "provenance": [],
      "collapsed_sections": [],
      "authorship_tag": "ABX9TyOj97EkTgqcYLGhFPqDyAWD",
      "include_colab_link": true
    },
    "kernelspec": {
      "name": "python3",
      "display_name": "Python 3"
    },
    "language_info": {
      "name": "python"
    }
  },
  "cells": [
    {
      "cell_type": "markdown",
      "metadata": {
        "id": "view-in-github",
        "colab_type": "text"
      },
      "source": [
        "<a href=\"https://colab.research.google.com/github/AUT-Student/NLP-HW1/blob/main/NLP_HW1.ipynb\" target=\"_parent\"><img src=\"https://colab.research.google.com/assets/colab-badge.svg\" alt=\"Open In Colab\"/></a>"
      ]
    },
    {
      "cell_type": "code",
      "execution_count": 2,
      "metadata": {
        "colab": {
          "base_uri": "https://localhost:8080/"
        },
        "id": "vSRMQW5y0GbV",
        "outputId": "611a1c92-2168-4920-cf7f-5136415f51ca"
      },
      "outputs": [
        {
          "output_type": "stream",
          "name": "stdout",
          "text": [
            "Downloading...\n",
            "From: https://drive.google.com/uc?id=16C0_9i0io43VfABV3-uukUjJYlM6k-2U\n",
            "To: /content/HW1-datasets.zip\n",
            "\r  0% 0.00/3.14M [00:00<?, ?B/s]\r100% 3.14M/3.14M [00:00<00:00, 195MB/s]\n",
            "Archive:  /content/HW1-datasets.zip\n",
            "   creating: content/HW1-datasets/\n",
            "  inflating: content/HW1-datasets/train.txt  \n",
            "  inflating: content/HW1-datasets/valid.txt  \n",
            "  inflating: content/HW1-datasets/test_incomplete.txt  \n",
            "  inflating: content/HW1-datasets/test.txt  \n",
            "  inflating: content/HW1-datasets/test_incomplete_gold.txt  \n"
          ]
        }
      ],
      "source": [
        "!gdown --id 16C0_9i0io43VfABV3-uukUjJYlM6k-2U\n",
        "!unzip /content/HW1-datasets.zip"
      ]
    },
    {
      "cell_type": "code",
      "source": [
        "import tensorflow as tf\n",
        "from tensorflow import keras"
      ],
      "metadata": {
        "id": "vJnzzUYZ1BoE"
      },
      "execution_count": 3,
      "outputs": []
    },
    {
      "cell_type": "code",
      "source": [
        "file = open(\"/content/content/HW1-datasets/train.txt\")\n",
        "\n",
        "vocabulary = set()\n",
        "\n",
        "for i, line in enumerate(file.readlines()):\n",
        "  if i < 30*1000:\n",
        "    words = line.split()\n",
        "\n",
        "    for word in words:\n",
        "      vocabulary.add(word)"
      ],
      "metadata": {
        "id": "hiuj1h6ZcmhY"
      },
      "execution_count": 4,
      "outputs": []
    },
    {
      "cell_type": "code",
      "source": [
        "len(vocabulary)"
      ],
      "metadata": {
        "colab": {
          "base_uri": "https://localhost:8080/"
        },
        "id": "D1CUYEkEd9Sz",
        "outputId": "1cdf1685-7da7-470e-cd66-b1fba3e3ffec"
      },
      "execution_count": 5,
      "outputs": [
        {
          "output_type": "execute_result",
          "data": {
            "text/plain": [
              "21188"
            ]
          },
          "metadata": {},
          "execution_count": 5
        }
      ]
    },
    {
      "cell_type": "code",
      "source": [
        "sorted_vocabulary = sorted(vocabulary)"
      ],
      "metadata": {
        "id": "NfZw0be4B5_t"
      },
      "execution_count": 6,
      "outputs": []
    },
    {
      "cell_type": "code",
      "source": [
        "sorted_vocabulary.index('آب')"
      ],
      "metadata": {
        "colab": {
          "base_uri": "https://localhost:8080/"
        },
        "id": "JDajgzafCNFb",
        "outputId": "6b345d74-6fdf-41d2-8dbf-d486371b5435"
      },
      "execution_count": 7,
      "outputs": [
        {
          "output_type": "execute_result",
          "data": {
            "text/plain": [
              "1"
            ]
          },
          "metadata": {},
          "execution_count": 7
        }
      ]
    },
    {
      "cell_type": "code",
      "source": [
        "def convert_to_int(inputs):\n",
        "  pass"
      ],
      "metadata": {
        "id": "ip0fZkOpfi_W"
      },
      "execution_count": 8,
      "outputs": []
    },
    {
      "cell_type": "code",
      "source": [
        "class BigramNLM(keras.Model):\n",
        "  def __init__(self, vocabulary):\n",
        "    super().__init__()\n",
        "    self.vocabulary = vocabulary\n",
        "    self.model = keras.models.Sequential([\n",
        "                                          keras.layers.Input((2,), name=\"Input\"),\n",
        "                                          keras.layers.Embedding(len(self.vocabulary), 128, name=\"Embedding\"),\n",
        "                                          keras.layers.Flatten(name=\"Flatten\"),\n",
        "                                          keras.layers.Dense(units=256, name=\"Hidden\"),\n",
        "                                          keras.layers.Dense(units=len(self.vocabulary), activation=\"softmax\", name=\"Output\"),\n",
        "    ])\n",
        "\n",
        "  def call(self, inputs):\n",
        "    return self.model(inputs)\n",
        "\n",
        "    # predicted_words = []\n",
        "\n",
        "    # for input in inputs:\n",
        "    #   word1, word2 = input[0], input[1]\n",
        "\n",
        "    #   word1_index = self.vocabulary.index(word1)\n",
        "    #   word2_index = self.vocabulary.index(word2)\n",
        "\n",
        "    #   embedding_output1 = self.embedding(word1_index)\n",
        "    #   embedding_output2 = self.embedding(word2_index)\n",
        "    \n",
        "    #   concat_output = tf.concat((embedding_output1, embedding_output2), 0)\n",
        "      \n",
        "    #   concat_output = tf.expand_dims(concat_output, 0)\n",
        "\n",
        "    #   dense1_output = self.dense1(concat_output)\n",
        "      \n",
        "    #   dense2_output = self.dense2(dense1_output)\n",
        "\n",
        "    #   dense2_output = tf.squeeze(dense2_output)\n",
        "\n",
        "    #   predicted_word_index = tf.argmax(dense2_output)\n",
        "    #   predicted_word = self.vocabulary[predicted_word_index]\n",
        "    #   predicted_words.append(predicted_word)\n",
        "\n",
        "    # return tf.convert_to_tensor(predicted_words)"
      ],
      "metadata": {
        "colab": {
          "base_uri": "https://localhost:8080/",
          "height": 238
        },
        "id": "e77K_UbOeJZs",
        "outputId": "9ea152ff-c1a9-4cbf-d7bf-d3a561ebfc60"
      },
      "execution_count": 1,
      "outputs": [
        {
          "output_type": "error",
          "ename": "NameError",
          "evalue": "ignored",
          "traceback": [
            "\u001b[0;31m---------------------------------------------------------------------------\u001b[0m",
            "\u001b[0;31mNameError\u001b[0m                                 Traceback (most recent call last)",
            "\u001b[0;32m<ipython-input-1-97046cbc45e5>\u001b[0m in \u001b[0;36m<module>\u001b[0;34m()\u001b[0m\n\u001b[0;32m----> 1\u001b[0;31m \u001b[0;32mclass\u001b[0m \u001b[0mBigramNLM\u001b[0m\u001b[0;34m(\u001b[0m\u001b[0mkeras\u001b[0m\u001b[0;34m.\u001b[0m\u001b[0mModel\u001b[0m\u001b[0;34m)\u001b[0m\u001b[0;34m:\u001b[0m\u001b[0;34m\u001b[0m\u001b[0;34m\u001b[0m\u001b[0m\n\u001b[0m\u001b[1;32m      2\u001b[0m   \u001b[0;32mdef\u001b[0m \u001b[0m__init__\u001b[0m\u001b[0;34m(\u001b[0m\u001b[0mself\u001b[0m\u001b[0;34m,\u001b[0m \u001b[0mvocabulary\u001b[0m\u001b[0;34m)\u001b[0m\u001b[0;34m:\u001b[0m\u001b[0;34m\u001b[0m\u001b[0;34m\u001b[0m\u001b[0m\n\u001b[1;32m      3\u001b[0m     \u001b[0msuper\u001b[0m\u001b[0;34m(\u001b[0m\u001b[0;34m)\u001b[0m\u001b[0;34m.\u001b[0m\u001b[0m__init__\u001b[0m\u001b[0;34m(\u001b[0m\u001b[0;34m)\u001b[0m\u001b[0;34m\u001b[0m\u001b[0;34m\u001b[0m\u001b[0m\n\u001b[1;32m      4\u001b[0m     \u001b[0mself\u001b[0m\u001b[0;34m.\u001b[0m\u001b[0mvocabulary\u001b[0m \u001b[0;34m=\u001b[0m \u001b[0mvocabulary\u001b[0m\u001b[0;34m\u001b[0m\u001b[0;34m\u001b[0m\u001b[0m\n\u001b[1;32m      5\u001b[0m     self.model = keras.models.Sequential([\n",
            "\u001b[0;31mNameError\u001b[0m: name 'keras' is not defined"
          ]
        }
      ]
    },
    {
      "cell_type": "code",
      "source": [
        "bnlm = BigramNLM(vocabulary=sorted_vocabulary)"
      ],
      "metadata": {
        "id": "4GmCBErDE7as"
      },
      "execution_count": null,
      "outputs": []
    },
    {
      "cell_type": "code",
      "source": [
        "bnlm.call(tf.constant([\n",
        "                        [1, 2],\n",
        "                        [3, 4],\n",
        "                        [1, 2]\n",
        "                        ]))"
      ],
      "metadata": {
        "colab": {
          "base_uri": "https://localhost:8080/"
        },
        "id": "VAaXkn5diuEo",
        "outputId": "dc90b09a-5aab-461a-9585-7d05e08c466d"
      },
      "execution_count": 137,
      "outputs": [
        {
          "output_type": "execute_result",
          "data": {
            "text/plain": [
              "<tf.Tensor: shape=(3, 21188), dtype=float32, numpy=\n",
              "array([[4.7349102e-05, 4.7178877e-05, 4.6923611e-05, ..., 4.7366262e-05,\n",
              "        4.7434176e-05, 4.7394085e-05],\n",
              "       [4.7207657e-05, 4.6914785e-05, 4.7334062e-05, ..., 4.7062145e-05,\n",
              "        4.7510115e-05, 4.7274469e-05],\n",
              "       [4.7349102e-05, 4.7178877e-05, 4.6923611e-05, ..., 4.7366262e-05,\n",
              "        4.7434176e-05, 4.7394085e-05]], dtype=float32)>"
            ]
          },
          "metadata": {},
          "execution_count": 137
        }
      ]
    },
    {
      "cell_type": "code",
      "source": [
        "tf.constant([[1, 2, 1], [1, 2, 4]])"
      ],
      "metadata": {
        "colab": {
          "base_uri": "https://localhost:8080/"
        },
        "id": "k2fhm6pjXRMB",
        "outputId": "db4034dc-575b-46ed-bb55-573b3ef9ad62"
      },
      "execution_count": 94,
      "outputs": [
        {
          "output_type": "execute_result",
          "data": {
            "text/plain": [
              "<tf.Tensor: shape=(2, 3), dtype=int32, numpy=\n",
              "array([[1, 2, 1],\n",
              "       [1, 2, 4]], dtype=int32)>"
            ]
          },
          "metadata": {},
          "execution_count": 94
        }
      ]
    },
    {
      "cell_type": "code",
      "source": [
        "embedding_test(tf.constant([[1, 2, 1], [1, 2, 4]]))"
      ],
      "metadata": {
        "colab": {
          "base_uri": "https://localhost:8080/"
        },
        "id": "idgPoxxCW8OT",
        "outputId": "42d1bf60-6360-4f1c-fd21-1baa54bc050f"
      },
      "execution_count": 95,
      "outputs": [
        {
          "output_type": "execute_result",
          "data": {
            "text/plain": [
              "<tf.Tensor: shape=(2, 3, 4), dtype=float32, numpy=\n",
              "array([[[-0.03383321, -0.00586923,  0.03602019,  0.04541481],\n",
              "        [ 0.0401669 , -0.03896043,  0.02758982,  0.03695711],\n",
              "        [-0.03383321, -0.00586923,  0.03602019,  0.04541481]],\n",
              "\n",
              "       [[-0.03383321, -0.00586923,  0.03602019,  0.04541481],\n",
              "        [ 0.0401669 , -0.03896043,  0.02758982,  0.03695711],\n",
              "        [-0.00159363, -0.00924385, -0.00259749, -0.02089017]]],\n",
              "      dtype=float32)>"
            ]
          },
          "metadata": {},
          "execution_count": 95
        }
      ]
    },
    {
      "cell_type": "code",
      "source": [
        ""
      ],
      "metadata": {
        "id": "oMck_g-8W8G9"
      },
      "execution_count": null,
      "outputs": []
    },
    {
      "cell_type": "code",
      "source": [
        "bnlm.compile(optimizer=\"adam\", loss=\"sparse_categorical_crossentropy\", metrics=[\"accuracy\"])"
      ],
      "metadata": {
        "id": "CNWnHdIhSWET"
      },
      "execution_count": 90,
      "outputs": []
    },
    {
      "cell_type": "code",
      "source": [
        "\n",
        "bnlm.call(word1 = \"من\", word2 = \"رفتم\")"
      ],
      "metadata": {
        "colab": {
          "base_uri": "https://localhost:8080/",
          "height": 212
        },
        "id": "7z87M5MwFNEv",
        "outputId": "052a62e0-3510-4c9c-d7cd-cb5bddbd61ad"
      },
      "execution_count": 87,
      "outputs": [
        {
          "output_type": "stream",
          "name": "stdout",
          "text": [
            "word1_index = 15312\n",
            "word2_index = 8714\n",
            "embedding shape = [128]\n",
            "concat shape = [  1 256]\n",
            "dense1_output shape = [  1 256]\n",
            "dense2_output shape = [21188]\n",
            "dense2 max = 4.794905544258654e-05\n",
            "dense2 shape = [21188]\n",
            "predicted_word_index = 21112\n",
            "predicted_word = یه\n"
          ]
        },
        {
          "output_type": "execute_result",
          "data": {
            "text/plain": [
              "'یه'"
            ],
            "application/vnd.google.colaboratory.intrinsic+json": {
              "type": "string"
            }
          },
          "metadata": {},
          "execution_count": 87
        }
      ]
    },
    {
      "cell_type": "code",
      "source": [
        "tensor1 = tf.constant([1,2,3])"
      ],
      "metadata": {
        "id": "iQH-WEvDFVjL"
      },
      "execution_count": null,
      "outputs": []
    },
    {
      "cell_type": "code",
      "source": [
        "tf.expand_dims(tensor1, 0)"
      ],
      "metadata": {
        "colab": {
          "base_uri": "https://localhost:8080/"
        },
        "id": "Izraj8P0HC9X",
        "outputId": "62312c60-86e9-4dca-e886-ddb7e5645b28"
      },
      "execution_count": 47,
      "outputs": [
        {
          "output_type": "execute_result",
          "data": {
            "text/plain": [
              "<tf.Tensor: shape=(1, 3), dtype=int32, numpy=array([[1, 2, 3]], dtype=int32)>"
            ]
          },
          "metadata": {},
          "execution_count": 47
        }
      ]
    },
    {
      "cell_type": "code",
      "source": [
        "tf.keras.backend.get_value(max(tensor1))"
      ],
      "metadata": {
        "colab": {
          "base_uri": "https://localhost:8080/"
        },
        "id": "AJ2dxJeQIDKg",
        "outputId": "d966288a-36ee-4830-f00e-377fd1b4c1c6"
      },
      "execution_count": 52,
      "outputs": [
        {
          "output_type": "execute_result",
          "data": {
            "text/plain": [
              "3"
            ]
          },
          "metadata": {},
          "execution_count": 52
        }
      ]
    },
    {
      "cell_type": "code",
      "source": [
        "tf.argmax(tensor1)"
      ],
      "metadata": {
        "colab": {
          "base_uri": "https://localhost:8080/"
        },
        "id": "z3ft7IzNIWmd",
        "outputId": "3d0e695d-c8b6-4aa8-a6eb-3f598aba31a2"
      },
      "execution_count": 68,
      "outputs": [
        {
          "output_type": "execute_result",
          "data": {
            "text/plain": [
              "<tf.Tensor: shape=(), dtype=int64, numpy=2>"
            ]
          },
          "metadata": {},
          "execution_count": 68
        }
      ]
    },
    {
      "cell_type": "code",
      "source": [
        "flatten_test = keras.layers.Flatten()"
      ],
      "metadata": {
        "id": "Hvnc9NjXLNQM"
      },
      "execution_count": 109,
      "outputs": []
    },
    {
      "cell_type": "code",
      "source": [
        "flatten_test(tf.constant([\n",
        "                          [[1,2,3], [2,3,4]],\n",
        "                          [[4,5,3], [7,3,4]],\n",
        "                          ]))"
      ],
      "metadata": {
        "colab": {
          "base_uri": "https://localhost:8080/"
        },
        "id": "kG9h1F8wjqr_",
        "outputId": "eb98c704-c069-46cf-ca5b-fcc93cc01b44"
      },
      "execution_count": 111,
      "outputs": [
        {
          "output_type": "execute_result",
          "data": {
            "text/plain": [
              "<tf.Tensor: shape=(2, 6), dtype=int32, numpy=\n",
              "array([[1, 2, 3, 2, 3, 4],\n",
              "       [4, 5, 3, 7, 3, 4]], dtype=int32)>"
            ]
          },
          "metadata": {},
          "execution_count": 111
        }
      ]
    },
    {
      "cell_type": "code",
      "source": [
        "keras.backend.argmax(tf.constant([11,2,3,5,3]))"
      ],
      "metadata": {
        "colab": {
          "base_uri": "https://localhost:8080/"
        },
        "id": "d1PmG-fzj3Jg",
        "outputId": "3e4aa9eb-c1cb-4193-c950-fdd1453d5ea9"
      },
      "execution_count": 134,
      "outputs": [
        {
          "output_type": "execute_result",
          "data": {
            "text/plain": [
              "<tf.Tensor: shape=(), dtype=int64, numpy=0>"
            ]
          },
          "metadata": {},
          "execution_count": 134
        }
      ]
    },
    {
      "cell_type": "code",
      "source": [
        ""
      ],
      "metadata": {
        "id": "0h2EaijRqZgq"
      },
      "execution_count": null,
      "outputs": []
    }
  ]
}