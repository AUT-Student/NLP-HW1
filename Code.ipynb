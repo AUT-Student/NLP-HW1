{
 "cells": [
  {
   "cell_type": "markdown",
   "id": "intelligent-portsmouth",
   "metadata": {},
   "source": [
    "# Probability Model"
   ]
  },
  {
   "cell_type": "markdown",
   "id": "creative-worry",
   "metadata": {},
   "source": [
    "## Create"
   ]
  },
  {
   "cell_type": "code",
   "execution_count": 1,
   "id": "extraordinary-least",
   "metadata": {},
   "outputs": [],
   "source": [
    "file = open(\"./dataset/train.txt\")\n",
    "\n",
    "word_counter = {}\n",
    "pair_counter = {}\n",
    "vocabulary = set()\n",
    "N = 0\n",
    "\n",
    "for line in file.readlines():\n",
    "    words = line.split()\n",
    "    N += len(words)\n",
    "    \n",
    "    for i, word in enumerate(words):\n",
    "        vocabulary.add(word)\n",
    "        if word_counter.get(word) is None:\n",
    "            word_counter[word] = 0\n",
    "        word_counter[word] += 1\n",
    "    \n",
    "        if i>0:\n",
    "            pair = (words[i-1], word)\n",
    "            if pair_counter.get(pair) is None:\n",
    "                pair_counter[pair] = 0\n",
    "            pair_counter[pair] += 1"
   ]
  },
  {
   "cell_type": "code",
   "execution_count": 2,
   "id": "funky-champagne",
   "metadata": {},
   "outputs": [],
   "source": [
    "def unigram(word):\n",
    "    return word_counter[word]/N"
   ]
  },
  {
   "cell_type": "code",
   "execution_count": 3,
   "id": "thrown-guitar",
   "metadata": {},
   "outputs": [],
   "source": [
    "def create_bigram(sigma):\n",
    "    def calculate_B(sigma):\n",
    "        B_word = {}\n",
    "        for word1 in vocabulary:\n",
    "            B_word[word1] = len(vocabulary)\n",
    "\n",
    "        for pair in pair_counter:\n",
    "            word1 = pair[0]\n",
    "            B_word[word1] -= 1\n",
    "        \n",
    "        return B_word\n",
    "    \n",
    "    B_word = calculate_B(sigma)\n",
    "    \n",
    "    def bigram(word1, word2):\n",
    "        alpha = sigma / word_counter[word1] * B_word[word1]\n",
    "        bigram_probability_item = {}\n",
    "        p_bg = word_counter[word1] / N\n",
    "\n",
    "        return (max(pair_counter.get((word1, word2), 0) - sigma, 0) /word_counter[word1]) + alpha * p_bg\n",
    "\n",
    "    return bigram"
   ]
  },
  {
   "cell_type": "code",
   "execution_count": 4,
   "id": "abstract-verse",
   "metadata": {},
   "outputs": [],
   "source": [
    "bigram = create_bigram(sigma=0.1)"
   ]
  },
  {
   "cell_type": "code",
   "execution_count": 5,
   "id": "environmental-constitution",
   "metadata": {},
   "outputs": [
    {
     "data": {
      "text/plain": [
       "0.004385964087839584"
      ]
     },
     "execution_count": 5,
     "metadata": {},
     "output_type": "execute_result"
    }
   ],
   "source": [
    "bigram(word1=\"من\", word2= \"ایران\")"
   ]
  },
  {
   "cell_type": "code",
   "execution_count": 11,
   "id": "stuck-writing",
   "metadata": {},
   "outputs": [
    {
     "data": {
      "text/plain": [
       "0.016205333998990382"
      ]
     },
     "execution_count": 11,
     "metadata": {},
     "output_type": "execute_result"
    }
   ],
   "source": [
    "bigram(word1=\"از\", word2= \"من\")"
   ]
  },
  {
   "cell_type": "markdown",
   "id": "approved-longitude",
   "metadata": {},
   "source": [
    "## Fine-tuning"
   ]
  },
  {
   "cell_type": "markdown",
   "id": "confused-treat",
   "metadata": {},
   "source": [
    "## Perplexity"
   ]
  },
  {
   "cell_type": "code",
   "execution_count": 27,
   "id": "historic-asthma",
   "metadata": {},
   "outputs": [],
   "source": [
    "import math\n",
    "\n",
    "def calculate_unigram_perplexity():\n",
    "    H = 0\n",
    "    \n",
    "    for word in vocabulary:\n",
    "#         p_word = word_counter[word]/N\n",
    "        p_word = unigram(word)\n",
    "        H -= p_word * math.log(p_word , 2)\n",
    "        \n",
    "    return 2**H\n",
    "\n",
    "def calculate_bigram_perplexity():\n",
    "    H = 0\n",
    "    \n",
    "    for i, word1 in enumerate(vocabulary):\n",
    "        if i%1000==0:\n",
    "            print(i)\n",
    "        for word2 in vocabulary:\n",
    "            p_pair = bigram(word1, word2)\n",
    "            H -= p_pair * math.log(p_pair , 2)\n",
    "        \n",
    "    return 2**H\n",
    "    "
   ]
  },
  {
   "cell_type": "code",
   "execution_count": 28,
   "id": "essential-constant",
   "metadata": {},
   "outputs": [
    {
     "data": {
      "text/plain": [
       "1768.1731873435156"
      ]
     },
     "execution_count": 28,
     "metadata": {},
     "output_type": "execute_result"
    }
   ],
   "source": [
    "calculate_unigram_perplexity()"
   ]
  },
  {
   "cell_type": "code",
   "execution_count": 29,
   "id": "competitive-imagination",
   "metadata": {},
   "outputs": [
    {
     "name": "stdout",
     "output_type": "stream",
     "text": [
      "0\n",
      "1000\n"
     ]
    },
    {
     "ename": "KeyboardInterrupt",
     "evalue": "",
     "output_type": "error",
     "traceback": [
      "\u001b[1;31m---------------------------------------------------------------------------\u001b[0m",
      "\u001b[1;31mKeyboardInterrupt\u001b[0m                         Traceback (most recent call last)",
      "\u001b[1;32m<ipython-input-29-8f60445a4b5c>\u001b[0m in \u001b[0;36m<module>\u001b[1;34m\u001b[0m\n\u001b[1;32m----> 1\u001b[1;33m \u001b[0mcalculate_bigram_perplexity\u001b[0m\u001b[1;33m(\u001b[0m\u001b[1;33m)\u001b[0m\u001b[1;33m\u001b[0m\u001b[1;33m\u001b[0m\u001b[0m\n\u001b[0m",
      "\u001b[1;32m<ipython-input-27-747bd0379407>\u001b[0m in \u001b[0;36mcalculate_bigram_perplexity\u001b[1;34m()\u001b[0m\n\u001b[0;32m     19\u001b[0m         \u001b[1;32mfor\u001b[0m \u001b[0mword2\u001b[0m \u001b[1;32min\u001b[0m \u001b[0mvocabulary\u001b[0m\u001b[1;33m:\u001b[0m\u001b[1;33m\u001b[0m\u001b[1;33m\u001b[0m\u001b[0m\n\u001b[0;32m     20\u001b[0m             \u001b[0mp_pair\u001b[0m \u001b[1;33m=\u001b[0m \u001b[0mbigram\u001b[0m\u001b[1;33m(\u001b[0m\u001b[0mword1\u001b[0m\u001b[1;33m,\u001b[0m \u001b[0mword2\u001b[0m\u001b[1;33m)\u001b[0m\u001b[1;33m\u001b[0m\u001b[1;33m\u001b[0m\u001b[0m\n\u001b[1;32m---> 21\u001b[1;33m             \u001b[0mH\u001b[0m \u001b[1;33m-=\u001b[0m \u001b[0mp_pair\u001b[0m \u001b[1;33m*\u001b[0m \u001b[0mmath\u001b[0m\u001b[1;33m.\u001b[0m\u001b[0mlog\u001b[0m\u001b[1;33m(\u001b[0m\u001b[0mp_pair\u001b[0m \u001b[1;33m,\u001b[0m \u001b[1;36m2\u001b[0m\u001b[1;33m)\u001b[0m\u001b[1;33m\u001b[0m\u001b[1;33m\u001b[0m\u001b[0m\n\u001b[0m\u001b[0;32m     22\u001b[0m \u001b[1;33m\u001b[0m\u001b[0m\n\u001b[0;32m     23\u001b[0m     \u001b[1;32mreturn\u001b[0m \u001b[1;36m2\u001b[0m\u001b[1;33m**\u001b[0m\u001b[0mH\u001b[0m\u001b[1;33m\u001b[0m\u001b[1;33m\u001b[0m\u001b[0m\n",
      "\u001b[1;31mKeyboardInterrupt\u001b[0m: "
     ]
    }
   ],
   "source": [
    "calculate_bigram_perplexity()"
   ]
  },
  {
   "cell_type": "markdown",
   "id": "noticed-bailey",
   "metadata": {},
   "source": [
    "## Test Unigram"
   ]
  },
  {
   "cell_type": "code",
   "execution_count": 75,
   "id": "consolidated-nylon",
   "metadata": {},
   "outputs": [
    {
     "name": "stdout",
     "output_type": "stream",
     "text": [
      "این سخن حقست اگر نزد سخن گستر \"و\" \n",
      "این سخن حقست اگر نزد سخن گستر برند\n",
      "\n",
      "آنکه با یوسف صدیق چنین خواهد \"و\" \n",
      "آنکه با یوسف صدیق چنین خواهد کرد\n",
      "\n",
      "هیچ دانی چکند صحبت او با \"و\" \n",
      "هیچ دانی چکند صحبت او با دگران\n",
      "\n",
      "سرمه دهی بصر بری سخت خوش است \"و\" \n",
      "سرمه دهی بصر بری سخت خوش است تاجری\n",
      "\n",
      "آتش ابراهیم را \"و\" \"و\" \n",
      "آتش ابراهیم را نبود زیان\n",
      "\n",
      "من که اندر سر \"و\" \"و\" \n",
      "من که اندر سر جنونی داشتم\n",
      "\n",
      "هر شیر شرزه را که به نیش \"و\" \"و\" \n",
      "هر شیر شرزه را که به نیش سنان گزید\n",
      "\n",
      "هرکه از حق به \"و\" \"و\" \"و\" \n",
      "هرکه از حق به سوی او نظریست\n",
      "\n",
      "گفت این از \"و\" \"و\" \"و\" \n",
      "گفت این از خدای باید خواست\n",
      "\n",
      "کلاه لاله که لعل است \"و\" \"و\" \"و\" \n",
      "کلاه لاله که لعل است اگر تو بشناسی\n"
     ]
    }
   ],
   "source": [
    "best_word = None\n",
    "best_probability = -math.inf\n",
    "for condidate_word in vocabulary:\n",
    "    if unigram(condidate_word) > best_probability:\n",
    "        best_probability = unigram(condidate_word)\n",
    "        best_word = condidate_word\n",
    "\n",
    "file = open(\"./dataset/test_incomplete.txt\")\n",
    "incomplete_lines = file.readlines()\n",
    "\n",
    "file = open(\"./dataset/test_incomplete_gold.txt\")\n",
    "incomplete_gold_lines = file.readlines()\n",
    "\n",
    "for i in range(len(incomplete_lines)):\n",
    "    line = incomplete_lines[i]\n",
    "    digit = int(line[0])\n",
    "    line = line[4:]\n",
    "    print(line.strip(), end=\" \")\n",
    "    for _ in range(digit):\n",
    "        print(f'\"{best_word}\"', end=\" \")\n",
    "    print()\n",
    "    \n",
    "    print(incomplete_gold_lines[i])    "
   ]
  },
  {
   "cell_type": "markdown",
   "id": "wrong-frequency",
   "metadata": {},
   "source": [
    "## Test Bigram"
   ]
  },
  {
   "cell_type": "code",
   "execution_count": 76,
   "id": "cordless-syria",
   "metadata": {},
   "outputs": [
    {
     "name": "stdout",
     "output_type": "stream",
     "text": [
      "این سخن حقست اگر نزد سخن گستر \"خویش\" \n",
      "این سخن حقست اگر نزد سخن گستر برند\n",
      "\n",
      "آنکه با یوسف صدیق چنین خواهد \"کرد\" \n",
      "آنکه با یوسف صدیق چنین خواهد کرد\n",
      "\n",
      "هیچ دانی چکند صحبت او با \"تو\" \n",
      "هیچ دانی چکند صحبت او با دگران\n",
      "\n",
      "سرمه دهی بصر بری سخت خوش است \"و\" \n",
      "سرمه دهی بصر بری سخت خوش است تاجری\n",
      "\n",
      "آتش ابراهیم را \"به\" \"دست\" \n",
      "آتش ابراهیم را نبود زیان\n",
      "\n",
      "من که اندر سر \"و\" \"از\" \n",
      "من که اندر سر جنونی داشتم\n",
      "\n",
      "هر شیر شرزه را که به نیش \"و\" \"از\" \n",
      "هر شیر شرزه را که به نیش سنان گزید\n",
      "\n",
      "هرکه از حق به \"دست\" \"و\" \"از\" \n",
      "هرکه از حق به سوی او نظریست\n",
      "\n",
      "گفت این از \"آن\" \"را\" \"به\" \n",
      "گفت این از خدای باید خواست\n",
      "\n",
      "کلاه لاله که لعل است \"و\" \"از\" \"آن\" \n",
      "کلاه لاله که لعل است اگر تو بشناسی\n"
     ]
    }
   ],
   "source": [
    "file = open(\"./dataset/test_incomplete.txt\")\n",
    "incomplete_lines = file.readlines()\n",
    "\n",
    "file = open(\"./dataset/test_incomplete_gold.txt\")\n",
    "incomplete_gold_lines = file.readlines()\n",
    "\n",
    "for i in range(len(incomplete_lines)):\n",
    "    line = incomplete_lines[i]\n",
    "    digit = int(line[0])\n",
    "    line = line[4:]\n",
    "    line = line.strip()\n",
    "    words = line.split()\n",
    "    \n",
    "    last_word = words[-1]\n",
    "    \n",
    "    print(line, end=\" \")\n",
    "    \n",
    "    for _ in range(digit):        \n",
    "        best_word = None\n",
    "        best_probability = -math.inf\n",
    "        \n",
    "        for condidate_word in vocabulary:\n",
    "            if bigram(last_word, condidate_word) > best_probability:\n",
    "                best_probability = bigram(last_word, condidate_word)\n",
    "                best_word = condidate_word\n",
    "            \n",
    "        print(f'\"{best_word}\"', end=\" \")\n",
    "        last_word = best_word\n",
    "    \n",
    "    print()\n",
    "    \n",
    "    print(incomplete_gold_lines[i])  "
   ]
  },
  {
   "cell_type": "code",
   "execution_count": null,
   "id": "built-bible",
   "metadata": {},
   "outputs": [],
   "source": []
  }
 ],
 "metadata": {
  "kernelspec": {
   "display_name": "Python 3",
   "language": "python",
   "name": "python3"
  },
  "language_info": {
   "codemirror_mode": {
    "name": "ipython",
    "version": 3
   },
   "file_extension": ".py",
   "mimetype": "text/x-python",
   "name": "python",
   "nbconvert_exporter": "python",
   "pygments_lexer": "ipython3",
   "version": "3.9.1"
  }
 },
 "nbformat": 4,
 "nbformat_minor": 5
}
