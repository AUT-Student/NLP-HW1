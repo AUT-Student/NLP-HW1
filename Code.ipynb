{
 "cells": [
  {
   "cell_type": "code",
   "execution_count": 1,
   "id": "extraordinary-least",
   "metadata": {},
   "outputs": [],
   "source": [
    "file = open(\"./dataset/train.txt\")\n",
    "\n",
    "word_counter = {}\n",
    "pair_counter = {}\n",
    "vocabulary = set()\n",
    "N = 0\n",
    "\n",
    "for line in file.readlines():\n",
    "    words = line.split()\n",
    "    N += len(words)\n",
    "    \n",
    "    for i, word in enumerate(words):\n",
    "        vocabulary.add(word)\n",
    "        if word_counter.get(word) is None:\n",
    "            word_counter[word] = 0\n",
    "        word_counter[word] += 1\n",
    "    \n",
    "        if i>0:\n",
    "            pair = (words[i-1], word)\n",
    "            if pair_counter.get(pair) is None:\n",
    "                pair_counter[pair] = 0\n",
    "            pair_counter[pair] += 1"
   ]
  },
  {
   "cell_type": "code",
   "execution_count": 2,
   "id": "funky-champagne",
   "metadata": {},
   "outputs": [],
   "source": [
    "def unigram(word):\n",
    "    return word_counter[word]/N"
   ]
  },
  {
   "cell_type": "code",
   "execution_count": 3,
   "id": "thrown-guitar",
   "metadata": {},
   "outputs": [],
   "source": [
    "def create_bigram(sigma):\n",
    "    def calculate_B(sigma):\n",
    "        B_word = {}\n",
    "        for word1 in vocabulary:\n",
    "            B_word[word1] = len(vocabulary)\n",
    "\n",
    "        for pair in pair_counter:\n",
    "            word1 = pair[0]\n",
    "            B_word[word1] -= 1\n",
    "        \n",
    "        return B_word\n",
    "    \n",
    "    B_word = calculate_B(sigma)\n",
    "    \n",
    "    def bigram(word1, word2):\n",
    "        alpha = sigma / word_counter[word1] * B_word[word1]\n",
    "        bigram_probability_item = {}\n",
    "        p_bg = word_counter[word1] / N\n",
    "\n",
    "        return (max(pair_counter.get((word1, word2), 0) - sigma, 0) /word_counter[word1]) + alpha * p_bg\n",
    "\n",
    "    return bigram"
   ]
  },
  {
   "cell_type": "code",
   "execution_count": 4,
   "id": "abstract-verse",
   "metadata": {},
   "outputs": [],
   "source": [
    "bigram = create_bigram(sigma=0.1)"
   ]
  },
  {
   "cell_type": "code",
   "execution_count": 5,
   "id": "environmental-constitution",
   "metadata": {},
   "outputs": [
    {
     "data": {
      "text/plain": [
       "0.004385964087839584"
      ]
     },
     "execution_count": 5,
     "metadata": {},
     "output_type": "execute_result"
    }
   ],
   "source": [
    "bigram(word1=\"من\", word2= \"ایران\")"
   ]
  },
  {
   "cell_type": "code",
   "execution_count": 11,
   "id": "sustained-saver",
   "metadata": {},
   "outputs": [
    {
     "data": {
      "text/plain": [
       "0.016205333998990382"
      ]
     },
     "execution_count": 11,
     "metadata": {},
     "output_type": "execute_result"
    }
   ],
   "source": [
    "bigram(word1=\"از\", word2= \"من\")"
   ]
  }
 ],
 "metadata": {
  "kernelspec": {
   "display_name": "Python 3",
   "language": "python",
   "name": "python3"
  },
  "language_info": {
   "codemirror_mode": {
    "name": "ipython",
    "version": 3
   },
   "file_extension": ".py",
   "mimetype": "text/x-python",
   "name": "python",
   "nbconvert_exporter": "python",
   "pygments_lexer": "ipython3",
   "version": "3.9.1"
  }
 },
 "nbformat": 4,
 "nbformat_minor": 5
}
